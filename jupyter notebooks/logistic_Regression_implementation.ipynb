{
 "cells": [
  {
   "cell_type": "code",
   "execution_count": 1,
   "metadata": {},
   "outputs": [],
   "source": [
    "import pandas as pd\n",
    "import numpy as np\n",
    "import matplotlib.pyplot as plt"
   ]
  },
  {
   "cell_type": "code",
   "execution_count": 2,
   "metadata": {},
   "outputs": [
    {
     "data": {
      "text/html": [
       "<div>\n",
       "<style scoped>\n",
       "    .dataframe tbody tr th:only-of-type {\n",
       "        vertical-align: middle;\n",
       "    }\n",
       "\n",
       "    .dataframe tbody tr th {\n",
       "        vertical-align: top;\n",
       "    }\n",
       "\n",
       "    .dataframe thead th {\n",
       "        text-align: right;\n",
       "    }\n",
       "</style>\n",
       "<table border=\"1\" class=\"dataframe\">\n",
       "  <thead>\n",
       "    <tr style=\"text-align: right;\">\n",
       "      <th></th>\n",
       "      <th>male</th>\n",
       "      <th>age</th>\n",
       "      <th>education</th>\n",
       "      <th>currentSmoker</th>\n",
       "      <th>cigsPerDay</th>\n",
       "      <th>BPMeds</th>\n",
       "      <th>prevalentStroke</th>\n",
       "      <th>prevalentHyp</th>\n",
       "      <th>diabetes</th>\n",
       "      <th>totChol</th>\n",
       "      <th>sysBP</th>\n",
       "      <th>diaBP</th>\n",
       "      <th>BMI</th>\n",
       "      <th>heartRate</th>\n",
       "      <th>glucose</th>\n",
       "      <th>POSSIBILITY OF CVD</th>\n",
       "    </tr>\n",
       "  </thead>\n",
       "  <tbody>\n",
       "    <tr>\n",
       "      <th>0</th>\n",
       "      <td>1</td>\n",
       "      <td>39</td>\n",
       "      <td>4.0</td>\n",
       "      <td>0</td>\n",
       "      <td>0.0</td>\n",
       "      <td>0.0</td>\n",
       "      <td>0</td>\n",
       "      <td>0</td>\n",
       "      <td>0</td>\n",
       "      <td>195.0</td>\n",
       "      <td>106.0</td>\n",
       "      <td>70.0</td>\n",
       "      <td>26.97</td>\n",
       "      <td>80.0</td>\n",
       "      <td>77.0</td>\n",
       "      <td>0</td>\n",
       "    </tr>\n",
       "    <tr>\n",
       "      <th>1</th>\n",
       "      <td>0</td>\n",
       "      <td>46</td>\n",
       "      <td>2.0</td>\n",
       "      <td>0</td>\n",
       "      <td>0.0</td>\n",
       "      <td>0.0</td>\n",
       "      <td>0</td>\n",
       "      <td>0</td>\n",
       "      <td>0</td>\n",
       "      <td>250.0</td>\n",
       "      <td>121.0</td>\n",
       "      <td>81.0</td>\n",
       "      <td>28.73</td>\n",
       "      <td>95.0</td>\n",
       "      <td>76.0</td>\n",
       "      <td>0</td>\n",
       "    </tr>\n",
       "    <tr>\n",
       "      <th>2</th>\n",
       "      <td>1</td>\n",
       "      <td>48</td>\n",
       "      <td>1.0</td>\n",
       "      <td>1</td>\n",
       "      <td>20.0</td>\n",
       "      <td>0.0</td>\n",
       "      <td>0</td>\n",
       "      <td>0</td>\n",
       "      <td>0</td>\n",
       "      <td>245.0</td>\n",
       "      <td>127.5</td>\n",
       "      <td>80.0</td>\n",
       "      <td>25.34</td>\n",
       "      <td>75.0</td>\n",
       "      <td>70.0</td>\n",
       "      <td>0</td>\n",
       "    </tr>\n",
       "    <tr>\n",
       "      <th>3</th>\n",
       "      <td>0</td>\n",
       "      <td>61</td>\n",
       "      <td>3.0</td>\n",
       "      <td>1</td>\n",
       "      <td>30.0</td>\n",
       "      <td>0.0</td>\n",
       "      <td>0</td>\n",
       "      <td>1</td>\n",
       "      <td>0</td>\n",
       "      <td>225.0</td>\n",
       "      <td>150.0</td>\n",
       "      <td>95.0</td>\n",
       "      <td>28.58</td>\n",
       "      <td>65.0</td>\n",
       "      <td>103.0</td>\n",
       "      <td>1</td>\n",
       "    </tr>\n",
       "    <tr>\n",
       "      <th>4</th>\n",
       "      <td>0</td>\n",
       "      <td>46</td>\n",
       "      <td>3.0</td>\n",
       "      <td>1</td>\n",
       "      <td>23.0</td>\n",
       "      <td>0.0</td>\n",
       "      <td>0</td>\n",
       "      <td>0</td>\n",
       "      <td>0</td>\n",
       "      <td>285.0</td>\n",
       "      <td>130.0</td>\n",
       "      <td>84.0</td>\n",
       "      <td>23.10</td>\n",
       "      <td>85.0</td>\n",
       "      <td>85.0</td>\n",
       "      <td>0</td>\n",
       "    </tr>\n",
       "    <tr>\n",
       "      <th>...</th>\n",
       "      <td>...</td>\n",
       "      <td>...</td>\n",
       "      <td>...</td>\n",
       "      <td>...</td>\n",
       "      <td>...</td>\n",
       "      <td>...</td>\n",
       "      <td>...</td>\n",
       "      <td>...</td>\n",
       "      <td>...</td>\n",
       "      <td>...</td>\n",
       "      <td>...</td>\n",
       "      <td>...</td>\n",
       "      <td>...</td>\n",
       "      <td>...</td>\n",
       "      <td>...</td>\n",
       "      <td>...</td>\n",
       "    </tr>\n",
       "    <tr>\n",
       "      <th>4233</th>\n",
       "      <td>1</td>\n",
       "      <td>50</td>\n",
       "      <td>1.0</td>\n",
       "      <td>1</td>\n",
       "      <td>1.0</td>\n",
       "      <td>0.0</td>\n",
       "      <td>0</td>\n",
       "      <td>1</td>\n",
       "      <td>0</td>\n",
       "      <td>313.0</td>\n",
       "      <td>179.0</td>\n",
       "      <td>92.0</td>\n",
       "      <td>25.97</td>\n",
       "      <td>66.0</td>\n",
       "      <td>86.0</td>\n",
       "      <td>1</td>\n",
       "    </tr>\n",
       "    <tr>\n",
       "      <th>4234</th>\n",
       "      <td>1</td>\n",
       "      <td>51</td>\n",
       "      <td>3.0</td>\n",
       "      <td>1</td>\n",
       "      <td>43.0</td>\n",
       "      <td>0.0</td>\n",
       "      <td>0</td>\n",
       "      <td>0</td>\n",
       "      <td>0</td>\n",
       "      <td>207.0</td>\n",
       "      <td>126.5</td>\n",
       "      <td>80.0</td>\n",
       "      <td>19.71</td>\n",
       "      <td>65.0</td>\n",
       "      <td>68.0</td>\n",
       "      <td>0</td>\n",
       "    </tr>\n",
       "    <tr>\n",
       "      <th>4235</th>\n",
       "      <td>0</td>\n",
       "      <td>48</td>\n",
       "      <td>2.0</td>\n",
       "      <td>1</td>\n",
       "      <td>20.0</td>\n",
       "      <td>NaN</td>\n",
       "      <td>0</td>\n",
       "      <td>0</td>\n",
       "      <td>0</td>\n",
       "      <td>248.0</td>\n",
       "      <td>131.0</td>\n",
       "      <td>72.0</td>\n",
       "      <td>22.00</td>\n",
       "      <td>84.0</td>\n",
       "      <td>86.0</td>\n",
       "      <td>0</td>\n",
       "    </tr>\n",
       "    <tr>\n",
       "      <th>4236</th>\n",
       "      <td>0</td>\n",
       "      <td>44</td>\n",
       "      <td>1.0</td>\n",
       "      <td>1</td>\n",
       "      <td>15.0</td>\n",
       "      <td>0.0</td>\n",
       "      <td>0</td>\n",
       "      <td>0</td>\n",
       "      <td>0</td>\n",
       "      <td>210.0</td>\n",
       "      <td>126.5</td>\n",
       "      <td>87.0</td>\n",
       "      <td>19.16</td>\n",
       "      <td>86.0</td>\n",
       "      <td>NaN</td>\n",
       "      <td>0</td>\n",
       "    </tr>\n",
       "    <tr>\n",
       "      <th>4237</th>\n",
       "      <td>0</td>\n",
       "      <td>52</td>\n",
       "      <td>2.0</td>\n",
       "      <td>0</td>\n",
       "      <td>0.0</td>\n",
       "      <td>0.0</td>\n",
       "      <td>0</td>\n",
       "      <td>0</td>\n",
       "      <td>0</td>\n",
       "      <td>269.0</td>\n",
       "      <td>133.5</td>\n",
       "      <td>83.0</td>\n",
       "      <td>21.47</td>\n",
       "      <td>80.0</td>\n",
       "      <td>107.0</td>\n",
       "      <td>0</td>\n",
       "    </tr>\n",
       "  </tbody>\n",
       "</table>\n",
       "<p>4238 rows × 16 columns</p>\n",
       "</div>"
      ],
      "text/plain": [
       "      male  age  education  currentSmoker  cigsPerDay  BPMeds  \\\n",
       "0        1   39        4.0              0         0.0     0.0   \n",
       "1        0   46        2.0              0         0.0     0.0   \n",
       "2        1   48        1.0              1        20.0     0.0   \n",
       "3        0   61        3.0              1        30.0     0.0   \n",
       "4        0   46        3.0              1        23.0     0.0   \n",
       "...    ...  ...        ...            ...         ...     ...   \n",
       "4233     1   50        1.0              1         1.0     0.0   \n",
       "4234     1   51        3.0              1        43.0     0.0   \n",
       "4235     0   48        2.0              1        20.0     NaN   \n",
       "4236     0   44        1.0              1        15.0     0.0   \n",
       "4237     0   52        2.0              0         0.0     0.0   \n",
       "\n",
       "      prevalentStroke  prevalentHyp  diabetes  totChol  sysBP  diaBP    BMI  \\\n",
       "0                   0             0         0    195.0  106.0   70.0  26.97   \n",
       "1                   0             0         0    250.0  121.0   81.0  28.73   \n",
       "2                   0             0         0    245.0  127.5   80.0  25.34   \n",
       "3                   0             1         0    225.0  150.0   95.0  28.58   \n",
       "4                   0             0         0    285.0  130.0   84.0  23.10   \n",
       "...               ...           ...       ...      ...    ...    ...    ...   \n",
       "4233                0             1         0    313.0  179.0   92.0  25.97   \n",
       "4234                0             0         0    207.0  126.5   80.0  19.71   \n",
       "4235                0             0         0    248.0  131.0   72.0  22.00   \n",
       "4236                0             0         0    210.0  126.5   87.0  19.16   \n",
       "4237                0             0         0    269.0  133.5   83.0  21.47   \n",
       "\n",
       "      heartRate  glucose  POSSIBILITY OF CVD  \n",
       "0          80.0     77.0                   0  \n",
       "1          95.0     76.0                   0  \n",
       "2          75.0     70.0                   0  \n",
       "3          65.0    103.0                   1  \n",
       "4          85.0     85.0                   0  \n",
       "...         ...      ...                 ...  \n",
       "4233       66.0     86.0                   1  \n",
       "4234       65.0     68.0                   0  \n",
       "4235       84.0     86.0                   0  \n",
       "4236       86.0      NaN                   0  \n",
       "4237       80.0    107.0                   0  \n",
       "\n",
       "[4238 rows x 16 columns]"
      ]
     },
     "metadata": {},
     "output_type": "display_data"
    }
   ],
   "source": [
    "df=pd.read_csv(\"framingham.csv\")\n",
    "display(df)"
   ]
  },
  {
   "cell_type": "markdown",
   "metadata": {},
   "source": [
    "# Preprocessing data"
   ]
  },
  {
   "cell_type": "code",
   "execution_count": 3,
   "metadata": {
    "scrolled": true
   },
   "outputs": [
    {
     "data": {
      "text/html": [
       "<div>\n",
       "<style scoped>\n",
       "    .dataframe tbody tr th:only-of-type {\n",
       "        vertical-align: middle;\n",
       "    }\n",
       "\n",
       "    .dataframe tbody tr th {\n",
       "        vertical-align: top;\n",
       "    }\n",
       "\n",
       "    .dataframe thead th {\n",
       "        text-align: right;\n",
       "    }\n",
       "</style>\n",
       "<table border=\"1\" class=\"dataframe\">\n",
       "  <thead>\n",
       "    <tr style=\"text-align: right;\">\n",
       "      <th></th>\n",
       "      <th>age</th>\n",
       "      <th>cigsPerDay</th>\n",
       "      <th>BPMeds</th>\n",
       "      <th>prevalentStroke</th>\n",
       "      <th>prevalentHyp</th>\n",
       "      <th>totChol</th>\n",
       "      <th>sysBP</th>\n",
       "      <th>diaBP</th>\n",
       "      <th>BMI</th>\n",
       "      <th>heartRate</th>\n",
       "      <th>glucose</th>\n",
       "      <th>POSSIBILITY OF CVD</th>\n",
       "    </tr>\n",
       "  </thead>\n",
       "  <tbody>\n",
       "    <tr>\n",
       "      <th>0</th>\n",
       "      <td>39</td>\n",
       "      <td>0.0</td>\n",
       "      <td>0.0</td>\n",
       "      <td>0</td>\n",
       "      <td>0</td>\n",
       "      <td>195.0</td>\n",
       "      <td>106.0</td>\n",
       "      <td>70.0</td>\n",
       "      <td>26.97</td>\n",
       "      <td>80.0</td>\n",
       "      <td>77.0</td>\n",
       "      <td>0</td>\n",
       "    </tr>\n",
       "    <tr>\n",
       "      <th>1</th>\n",
       "      <td>46</td>\n",
       "      <td>0.0</td>\n",
       "      <td>0.0</td>\n",
       "      <td>0</td>\n",
       "      <td>0</td>\n",
       "      <td>250.0</td>\n",
       "      <td>121.0</td>\n",
       "      <td>81.0</td>\n",
       "      <td>28.73</td>\n",
       "      <td>95.0</td>\n",
       "      <td>76.0</td>\n",
       "      <td>0</td>\n",
       "    </tr>\n",
       "    <tr>\n",
       "      <th>2</th>\n",
       "      <td>48</td>\n",
       "      <td>20.0</td>\n",
       "      <td>0.0</td>\n",
       "      <td>0</td>\n",
       "      <td>0</td>\n",
       "      <td>245.0</td>\n",
       "      <td>127.5</td>\n",
       "      <td>80.0</td>\n",
       "      <td>25.34</td>\n",
       "      <td>75.0</td>\n",
       "      <td>70.0</td>\n",
       "      <td>0</td>\n",
       "    </tr>\n",
       "    <tr>\n",
       "      <th>3</th>\n",
       "      <td>61</td>\n",
       "      <td>30.0</td>\n",
       "      <td>0.0</td>\n",
       "      <td>0</td>\n",
       "      <td>1</td>\n",
       "      <td>225.0</td>\n",
       "      <td>150.0</td>\n",
       "      <td>95.0</td>\n",
       "      <td>28.58</td>\n",
       "      <td>65.0</td>\n",
       "      <td>103.0</td>\n",
       "      <td>1</td>\n",
       "    </tr>\n",
       "    <tr>\n",
       "      <th>4</th>\n",
       "      <td>46</td>\n",
       "      <td>23.0</td>\n",
       "      <td>0.0</td>\n",
       "      <td>0</td>\n",
       "      <td>0</td>\n",
       "      <td>285.0</td>\n",
       "      <td>130.0</td>\n",
       "      <td>84.0</td>\n",
       "      <td>23.10</td>\n",
       "      <td>85.0</td>\n",
       "      <td>85.0</td>\n",
       "      <td>0</td>\n",
       "    </tr>\n",
       "    <tr>\n",
       "      <th>...</th>\n",
       "      <td>...</td>\n",
       "      <td>...</td>\n",
       "      <td>...</td>\n",
       "      <td>...</td>\n",
       "      <td>...</td>\n",
       "      <td>...</td>\n",
       "      <td>...</td>\n",
       "      <td>...</td>\n",
       "      <td>...</td>\n",
       "      <td>...</td>\n",
       "      <td>...</td>\n",
       "      <td>...</td>\n",
       "    </tr>\n",
       "    <tr>\n",
       "      <th>4233</th>\n",
       "      <td>50</td>\n",
       "      <td>1.0</td>\n",
       "      <td>0.0</td>\n",
       "      <td>0</td>\n",
       "      <td>1</td>\n",
       "      <td>313.0</td>\n",
       "      <td>179.0</td>\n",
       "      <td>92.0</td>\n",
       "      <td>25.97</td>\n",
       "      <td>66.0</td>\n",
       "      <td>86.0</td>\n",
       "      <td>1</td>\n",
       "    </tr>\n",
       "    <tr>\n",
       "      <th>4234</th>\n",
       "      <td>51</td>\n",
       "      <td>43.0</td>\n",
       "      <td>0.0</td>\n",
       "      <td>0</td>\n",
       "      <td>0</td>\n",
       "      <td>207.0</td>\n",
       "      <td>126.5</td>\n",
       "      <td>80.0</td>\n",
       "      <td>19.71</td>\n",
       "      <td>65.0</td>\n",
       "      <td>68.0</td>\n",
       "      <td>0</td>\n",
       "    </tr>\n",
       "    <tr>\n",
       "      <th>4235</th>\n",
       "      <td>48</td>\n",
       "      <td>20.0</td>\n",
       "      <td>NaN</td>\n",
       "      <td>0</td>\n",
       "      <td>0</td>\n",
       "      <td>248.0</td>\n",
       "      <td>131.0</td>\n",
       "      <td>72.0</td>\n",
       "      <td>22.00</td>\n",
       "      <td>84.0</td>\n",
       "      <td>86.0</td>\n",
       "      <td>0</td>\n",
       "    </tr>\n",
       "    <tr>\n",
       "      <th>4236</th>\n",
       "      <td>44</td>\n",
       "      <td>15.0</td>\n",
       "      <td>0.0</td>\n",
       "      <td>0</td>\n",
       "      <td>0</td>\n",
       "      <td>210.0</td>\n",
       "      <td>126.5</td>\n",
       "      <td>87.0</td>\n",
       "      <td>19.16</td>\n",
       "      <td>86.0</td>\n",
       "      <td>NaN</td>\n",
       "      <td>0</td>\n",
       "    </tr>\n",
       "    <tr>\n",
       "      <th>4237</th>\n",
       "      <td>52</td>\n",
       "      <td>0.0</td>\n",
       "      <td>0.0</td>\n",
       "      <td>0</td>\n",
       "      <td>0</td>\n",
       "      <td>269.0</td>\n",
       "      <td>133.5</td>\n",
       "      <td>83.0</td>\n",
       "      <td>21.47</td>\n",
       "      <td>80.0</td>\n",
       "      <td>107.0</td>\n",
       "      <td>0</td>\n",
       "    </tr>\n",
       "  </tbody>\n",
       "</table>\n",
       "<p>4238 rows × 12 columns</p>\n",
       "</div>"
      ],
      "text/plain": [
       "      age  cigsPerDay  BPMeds  prevalentStroke  prevalentHyp  totChol  sysBP  \\\n",
       "0      39         0.0     0.0                0             0    195.0  106.0   \n",
       "1      46         0.0     0.0                0             0    250.0  121.0   \n",
       "2      48        20.0     0.0                0             0    245.0  127.5   \n",
       "3      61        30.0     0.0                0             1    225.0  150.0   \n",
       "4      46        23.0     0.0                0             0    285.0  130.0   \n",
       "...   ...         ...     ...              ...           ...      ...    ...   \n",
       "4233   50         1.0     0.0                0             1    313.0  179.0   \n",
       "4234   51        43.0     0.0                0             0    207.0  126.5   \n",
       "4235   48        20.0     NaN                0             0    248.0  131.0   \n",
       "4236   44        15.0     0.0                0             0    210.0  126.5   \n",
       "4237   52         0.0     0.0                0             0    269.0  133.5   \n",
       "\n",
       "      diaBP    BMI  heartRate  glucose  POSSIBILITY OF CVD  \n",
       "0      70.0  26.97       80.0     77.0                   0  \n",
       "1      81.0  28.73       95.0     76.0                   0  \n",
       "2      80.0  25.34       75.0     70.0                   0  \n",
       "3      95.0  28.58       65.0    103.0                   1  \n",
       "4      84.0  23.10       85.0     85.0                   0  \n",
       "...     ...    ...        ...      ...                 ...  \n",
       "4233   92.0  25.97       66.0     86.0                   1  \n",
       "4234   80.0  19.71       65.0     68.0                   0  \n",
       "4235   72.0  22.00       84.0     86.0                   0  \n",
       "4236   87.0  19.16       86.0      NaN                   0  \n",
       "4237   83.0  21.47       80.0    107.0                   0  \n",
       "\n",
       "[4238 rows x 12 columns]"
      ]
     },
     "execution_count": 3,
     "metadata": {},
     "output_type": "execute_result"
    }
   ],
   "source": [
    "# \"male\" was shown to be IN SIGNIFICANT, during T TEst(based on p-value)\n",
    "# \"diabetes\" was shown to be IN SIGNIFICANT, during T TEst(based on p-value)\n",
    "# \"currentSmoker\" fails in chi-square test\n",
    "df=df.drop(axis=1,labels=[\"male\",\"education\",\"diabetes\",\"currentSmoker\"])\n",
    "df\n"
   ]
  },
  {
   "cell_type": "code",
   "execution_count": 4,
   "metadata": {},
   "outputs": [
    {
     "name": "stdout",
     "output_type": "stream",
     "text": [
      "<class 'pandas.core.frame.DataFrame'>\n",
      "RangeIndex: 4238 entries, 0 to 4237\n",
      "Data columns (total 12 columns):\n",
      " #   Column              Non-Null Count  Dtype  \n",
      "---  ------              --------------  -----  \n",
      " 0   age                 4238 non-null   int64  \n",
      " 1   cigsPerDay          4209 non-null   float64\n",
      " 2   BPMeds              4185 non-null   float64\n",
      " 3   prevalentStroke     4238 non-null   int64  \n",
      " 4   prevalentHyp        4238 non-null   int64  \n",
      " 5   totChol             4188 non-null   float64\n",
      " 6   sysBP               4238 non-null   float64\n",
      " 7   diaBP               4238 non-null   float64\n",
      " 8   BMI                 4219 non-null   float64\n",
      " 9   heartRate           4237 non-null   float64\n",
      " 10  glucose             3850 non-null   float64\n",
      " 11  POSSIBILITY OF CVD  4238 non-null   int64  \n",
      "dtypes: float64(8), int64(4)\n",
      "memory usage: 397.4 KB\n"
     ]
    }
   ],
   "source": [
    "#To understand , which attribute has how many (\"NULL\" or NaN) values\n",
    "df.info()"
   ]
  },
  {
   "cell_type": "code",
   "execution_count": 5,
   "metadata": {},
   "outputs": [],
   "source": [
    "# each column has 4238 entries.\n",
    "# for attribute \"glucose\" , there are only 3850 \"not-NULL\" entries\n",
    "#df.fillna?"
   ]
  },
  {
   "cell_type": "code",
   "execution_count": 6,
   "metadata": {},
   "outputs": [
    {
     "data": {
      "text/html": [
       "<div>\n",
       "<style scoped>\n",
       "    .dataframe tbody tr th:only-of-type {\n",
       "        vertical-align: middle;\n",
       "    }\n",
       "\n",
       "    .dataframe tbody tr th {\n",
       "        vertical-align: top;\n",
       "    }\n",
       "\n",
       "    .dataframe thead th {\n",
       "        text-align: right;\n",
       "    }\n",
       "</style>\n",
       "<table border=\"1\" class=\"dataframe\">\n",
       "  <thead>\n",
       "    <tr style=\"text-align: right;\">\n",
       "      <th></th>\n",
       "      <th>age</th>\n",
       "      <th>cigsPerDay</th>\n",
       "      <th>BPMeds</th>\n",
       "      <th>prevalentStroke</th>\n",
       "      <th>prevalentHyp</th>\n",
       "      <th>totChol</th>\n",
       "      <th>sysBP</th>\n",
       "      <th>diaBP</th>\n",
       "      <th>BMI</th>\n",
       "      <th>heartRate</th>\n",
       "      <th>glucose</th>\n",
       "      <th>POSSIBILITY OF CVD</th>\n",
       "    </tr>\n",
       "  </thead>\n",
       "  <tbody>\n",
       "    <tr>\n",
       "      <th>0</th>\n",
       "      <td>39</td>\n",
       "      <td>0.0</td>\n",
       "      <td>0.0</td>\n",
       "      <td>0</td>\n",
       "      <td>0</td>\n",
       "      <td>195.0</td>\n",
       "      <td>106.0</td>\n",
       "      <td>70.0</td>\n",
       "      <td>26.97</td>\n",
       "      <td>80.0</td>\n",
       "      <td>77.0</td>\n",
       "      <td>0</td>\n",
       "    </tr>\n",
       "    <tr>\n",
       "      <th>1</th>\n",
       "      <td>46</td>\n",
       "      <td>0.0</td>\n",
       "      <td>0.0</td>\n",
       "      <td>0</td>\n",
       "      <td>0</td>\n",
       "      <td>250.0</td>\n",
       "      <td>121.0</td>\n",
       "      <td>81.0</td>\n",
       "      <td>28.73</td>\n",
       "      <td>95.0</td>\n",
       "      <td>76.0</td>\n",
       "      <td>0</td>\n",
       "    </tr>\n",
       "    <tr>\n",
       "      <th>2</th>\n",
       "      <td>48</td>\n",
       "      <td>20.0</td>\n",
       "      <td>0.0</td>\n",
       "      <td>0</td>\n",
       "      <td>0</td>\n",
       "      <td>245.0</td>\n",
       "      <td>127.5</td>\n",
       "      <td>80.0</td>\n",
       "      <td>25.34</td>\n",
       "      <td>75.0</td>\n",
       "      <td>70.0</td>\n",
       "      <td>0</td>\n",
       "    </tr>\n",
       "    <tr>\n",
       "      <th>3</th>\n",
       "      <td>61</td>\n",
       "      <td>30.0</td>\n",
       "      <td>0.0</td>\n",
       "      <td>0</td>\n",
       "      <td>1</td>\n",
       "      <td>225.0</td>\n",
       "      <td>150.0</td>\n",
       "      <td>95.0</td>\n",
       "      <td>28.58</td>\n",
       "      <td>65.0</td>\n",
       "      <td>103.0</td>\n",
       "      <td>1</td>\n",
       "    </tr>\n",
       "    <tr>\n",
       "      <th>4</th>\n",
       "      <td>46</td>\n",
       "      <td>23.0</td>\n",
       "      <td>0.0</td>\n",
       "      <td>0</td>\n",
       "      <td>0</td>\n",
       "      <td>285.0</td>\n",
       "      <td>130.0</td>\n",
       "      <td>84.0</td>\n",
       "      <td>23.10</td>\n",
       "      <td>85.0</td>\n",
       "      <td>85.0</td>\n",
       "      <td>0</td>\n",
       "    </tr>\n",
       "    <tr>\n",
       "      <th>...</th>\n",
       "      <td>...</td>\n",
       "      <td>...</td>\n",
       "      <td>...</td>\n",
       "      <td>...</td>\n",
       "      <td>...</td>\n",
       "      <td>...</td>\n",
       "      <td>...</td>\n",
       "      <td>...</td>\n",
       "      <td>...</td>\n",
       "      <td>...</td>\n",
       "      <td>...</td>\n",
       "      <td>...</td>\n",
       "    </tr>\n",
       "    <tr>\n",
       "      <th>4233</th>\n",
       "      <td>50</td>\n",
       "      <td>1.0</td>\n",
       "      <td>0.0</td>\n",
       "      <td>0</td>\n",
       "      <td>1</td>\n",
       "      <td>313.0</td>\n",
       "      <td>179.0</td>\n",
       "      <td>92.0</td>\n",
       "      <td>25.97</td>\n",
       "      <td>66.0</td>\n",
       "      <td>86.0</td>\n",
       "      <td>1</td>\n",
       "    </tr>\n",
       "    <tr>\n",
       "      <th>4234</th>\n",
       "      <td>51</td>\n",
       "      <td>43.0</td>\n",
       "      <td>0.0</td>\n",
       "      <td>0</td>\n",
       "      <td>0</td>\n",
       "      <td>207.0</td>\n",
       "      <td>126.5</td>\n",
       "      <td>80.0</td>\n",
       "      <td>19.71</td>\n",
       "      <td>65.0</td>\n",
       "      <td>68.0</td>\n",
       "      <td>0</td>\n",
       "    </tr>\n",
       "    <tr>\n",
       "      <th>4235</th>\n",
       "      <td>48</td>\n",
       "      <td>20.0</td>\n",
       "      <td>0.0</td>\n",
       "      <td>0</td>\n",
       "      <td>0</td>\n",
       "      <td>248.0</td>\n",
       "      <td>131.0</td>\n",
       "      <td>72.0</td>\n",
       "      <td>22.00</td>\n",
       "      <td>84.0</td>\n",
       "      <td>86.0</td>\n",
       "      <td>0</td>\n",
       "    </tr>\n",
       "    <tr>\n",
       "      <th>4236</th>\n",
       "      <td>44</td>\n",
       "      <td>15.0</td>\n",
       "      <td>0.0</td>\n",
       "      <td>0</td>\n",
       "      <td>0</td>\n",
       "      <td>210.0</td>\n",
       "      <td>126.5</td>\n",
       "      <td>87.0</td>\n",
       "      <td>19.16</td>\n",
       "      <td>86.0</td>\n",
       "      <td>82.0</td>\n",
       "      <td>0</td>\n",
       "    </tr>\n",
       "    <tr>\n",
       "      <th>4237</th>\n",
       "      <td>52</td>\n",
       "      <td>0.0</td>\n",
       "      <td>0.0</td>\n",
       "      <td>0</td>\n",
       "      <td>0</td>\n",
       "      <td>269.0</td>\n",
       "      <td>133.5</td>\n",
       "      <td>83.0</td>\n",
       "      <td>21.47</td>\n",
       "      <td>80.0</td>\n",
       "      <td>107.0</td>\n",
       "      <td>0</td>\n",
       "    </tr>\n",
       "  </tbody>\n",
       "</table>\n",
       "<p>4238 rows × 12 columns</p>\n",
       "</div>"
      ],
      "text/plain": [
       "      age  cigsPerDay  BPMeds  prevalentStroke  prevalentHyp  totChol  sysBP  \\\n",
       "0      39         0.0     0.0                0             0    195.0  106.0   \n",
       "1      46         0.0     0.0                0             0    250.0  121.0   \n",
       "2      48        20.0     0.0                0             0    245.0  127.5   \n",
       "3      61        30.0     0.0                0             1    225.0  150.0   \n",
       "4      46        23.0     0.0                0             0    285.0  130.0   \n",
       "...   ...         ...     ...              ...           ...      ...    ...   \n",
       "4233   50         1.0     0.0                0             1    313.0  179.0   \n",
       "4234   51        43.0     0.0                0             0    207.0  126.5   \n",
       "4235   48        20.0     0.0                0             0    248.0  131.0   \n",
       "4236   44        15.0     0.0                0             0    210.0  126.5   \n",
       "4237   52         0.0     0.0                0             0    269.0  133.5   \n",
       "\n",
       "      diaBP    BMI  heartRate  glucose  POSSIBILITY OF CVD  \n",
       "0      70.0  26.97       80.0     77.0                   0  \n",
       "1      81.0  28.73       95.0     76.0                   0  \n",
       "2      80.0  25.34       75.0     70.0                   0  \n",
       "3      95.0  28.58       65.0    103.0                   1  \n",
       "4      84.0  23.10       85.0     85.0                   0  \n",
       "...     ...    ...        ...      ...                 ...  \n",
       "4233   92.0  25.97       66.0     86.0                   1  \n",
       "4234   80.0  19.71       65.0     68.0                   0  \n",
       "4235   72.0  22.00       84.0     86.0                   0  \n",
       "4236   87.0  19.16       86.0     82.0                   0  \n",
       "4237   83.0  21.47       80.0    107.0                   0  \n",
       "\n",
       "[4238 rows x 12 columns]"
      ]
     },
     "metadata": {},
     "output_type": "display_data"
    }
   ],
   "source": [
    "# for categorical attributes, we replace Nan with most frequent attribute\n",
    "#for continous attributes,we replace Nan with mean .\n",
    "\n",
    "#for continous attributes--->replace Nan with mean\n",
    "df[\"cigsPerDay\"]=df[\"cigsPerDay\"].fillna(round(df[\"cigsPerDay\"].mean()))\n",
    "df[\"totChol\"]=df[\"totChol\"].fillna(round(df[\"totChol\"].mean()))\n",
    "df[\"BMI\"]=df[\"BMI\"].fillna(round(df[\"BMI\"].mean(),2))\n",
    "df[\"heartRate\"]=df[\"heartRate\"].fillna(round(df[\"heartRate\"].mean()))\n",
    "df[\"glucose\"]=df[\"glucose\"].fillna(round(df[\"glucose\"].mean()))\n",
    "\n",
    "\n",
    "#for categorical attributes-->replace Nan with most freq value\n",
    "vall,freqq=np.unique(df[\"BPMeds\"],return_counts=True)\n",
    "#display(vall,freqq)\n",
    "df[\"BPMeds\"]=df[\"BPMeds\"].fillna(vall[freqq.argmax()])\n",
    "\n",
    "display(df)"
   ]
  },
  {
   "cell_type": "code",
   "execution_count": 7,
   "metadata": {},
   "outputs": [
    {
     "name": "stdout",
     "output_type": "stream",
     "text": [
      "<class 'pandas.core.frame.DataFrame'>\n",
      "RangeIndex: 4238 entries, 0 to 4237\n",
      "Data columns (total 12 columns):\n",
      " #   Column              Non-Null Count  Dtype  \n",
      "---  ------              --------------  -----  \n",
      " 0   age                 4238 non-null   int64  \n",
      " 1   cigsPerDay          4238 non-null   float64\n",
      " 2   BPMeds              4238 non-null   float64\n",
      " 3   prevalentStroke     4238 non-null   int64  \n",
      " 4   prevalentHyp        4238 non-null   int64  \n",
      " 5   totChol             4238 non-null   float64\n",
      " 6   sysBP               4238 non-null   float64\n",
      " 7   diaBP               4238 non-null   float64\n",
      " 8   BMI                 4238 non-null   float64\n",
      " 9   heartRate           4238 non-null   float64\n",
      " 10  glucose             4238 non-null   float64\n",
      " 11  POSSIBILITY OF CVD  4238 non-null   int64  \n",
      "dtypes: float64(8), int64(4)\n",
      "memory usage: 397.4 KB\n"
     ]
    }
   ],
   "source": [
    "df.info()"
   ]
  },
  {
   "cell_type": "code",
   "execution_count": null,
   "metadata": {},
   "outputs": [],
   "source": []
  },
  {
   "cell_type": "markdown",
   "metadata": {},
   "source": [
    "# Logistic Regression Implementation"
   ]
  },
  {
   "cell_type": "markdown",
   "metadata": {},
   "source": [
    "### step 0: Preparing Data"
   ]
  },
  {
   "cell_type": "code",
   "execution_count": 8,
   "metadata": {},
   "outputs": [],
   "source": [
    "# random shuffling of data\n",
    "#df=df.sample(frac=1)\n",
    "#display(df)\n",
    "\n",
    "#not doing this step, as data is already shuffled, as per dataset discription"
   ]
  },
  {
   "cell_type": "code",
   "execution_count": 9,
   "metadata": {
    "scrolled": true
   },
   "outputs": [
    {
     "name": "stdout",
     "output_type": "stream",
     "text": [
      "[[ 39.   0.   0. ...  80.  77.   0.]\n",
      " [ 46.   0.   0. ...  95.  76.   0.]\n",
      " [ 48.  20.   0. ...  75.  70.   0.]\n",
      " ...\n",
      " [ 48.  20.   0. ...  84.  86.   0.]\n",
      " [ 44.  15.   0. ...  86.  82.   0.]\n",
      " [ 52.   0.   0. ...  80. 107.   0.]]\n",
      "(4238, 12)\n",
      "<class 'numpy.ndarray'>\n"
     ]
    }
   ],
   "source": [
    "# taking data , from the DataFrame object, to numpy object\n",
    "data=df.values\n",
    "print(data)\n",
    "print(data.shape)\n",
    "print(type(data))"
   ]
  },
  {
   "cell_type": "code",
   "execution_count": 10,
   "metadata": {
    "scrolled": true
   },
   "outputs": [
    {
     "name": "stdout",
     "output_type": "stream",
     "text": [
      "[[ 39.     0.     0.   ...  26.97  80.    77.  ]\n",
      " [ 46.     0.     0.   ...  28.73  95.    76.  ]\n",
      " [ 48.    20.     0.   ...  25.34  75.    70.  ]\n",
      " ...\n",
      " [ 48.    20.     0.   ...  22.    84.    86.  ]\n",
      " [ 44.    15.     0.   ...  19.16  86.    82.  ]\n",
      " [ 52.     0.     0.   ...  21.47  80.   107.  ]]\n",
      "(4238, 11)\n",
      "[0. 0. 0. ... 0. 0. 0.]\n",
      "(4238,)\n"
     ]
    }
   ],
   "source": [
    "#separating target label, from rest of the attributes\n",
    "X=data[:,:-1]  \n",
    "Y=data[:,-1]  # target label\n",
    "print(X)\n",
    "print(X.shape)\n",
    "print(Y)\n",
    "print(Y.shape)"
   ]
  },
  {
   "cell_type": "markdown",
   "metadata": {},
   "source": [
    "### performing Data Normalisation"
   ]
  },
  {
   "cell_type": "code",
   "execution_count": 11,
   "metadata": {},
   "outputs": [
    {
     "name": "stdout",
     "output_type": "stream",
     "text": [
      "[4.95849457e+01 9.00306748e+00 2.92590845e-02 5.89900897e-03\n",
      " 3.10523832e-01 2.36724870e+02 1.32352407e+02 8.28934639e+01\n",
      " 2.58019986e+01 7.58789523e+01 8.19697971e+01]\n",
      "[ 8.57114852 11.87782862  0.16853187  0.07657813  0.4627081  44.32123288\n",
      " 22.03549643 11.90944427  4.07047223 12.02375836 22.83391071]\n"
     ]
    }
   ],
   "source": [
    " # data normalisation (mean=0,,,and std deviation=1 along each axis)\n",
    "# squeezing the features to [-1,1] range\n",
    "x_mean=X.mean(axis=0)\n",
    "print(x_mean)\n",
    "x_std=X.std(axis=0)\n",
    "print(x_std)\n",
    "\n",
    "#applying the transformation\n",
    "X=(X-x_mean)/x_std"
   ]
  },
  {
   "cell_type": "code",
   "execution_count": 12,
   "metadata": {},
   "outputs": [
    {
     "name": "stdout",
     "output_type": "stream",
     "text": [
      "[ 1.30774737e-16  3.85617813e-17 -4.02383805e-17 -1.00595951e-17\n",
      " -5.02979756e-17 -2.01191903e-16 -4.51005181e-16  2.98434655e-16\n",
      "  3.26936842e-16 -5.80103319e-16 -2.93404858e-16]\n",
      "[1. 1. 1. 1. 1. 1. 1. 1. 1. 1. 1.]\n"
     ]
    }
   ],
   "source": [
    "print(X.mean(axis=0))\n",
    "# mean is v close to 0 now\n",
    "print(X.std(axis=0))\n",
    "#std dev is 1 along each axis"
   ]
  },
  {
   "cell_type": "markdown",
   "metadata": {},
   "source": [
    "### step1: Spliting Data for Training and Testing"
   ]
  },
  {
   "cell_type": "code",
   "execution_count": 13,
   "metadata": {
    "scrolled": true
   },
   "outputs": [
    {
     "name": "stdout",
     "output_type": "stream",
     "text": [
      "2966.6\n",
      "split length: 2966\n",
      "\n",
      "X_train: (2966, 11)\n",
      "X_test: (1272, 11)\n",
      "Y_train: (2966,)\n",
      "Y_test: (1272,)\n"
     ]
    }
   ],
   "source": [
    "#performing split , to train,test data\n",
    "split=0.7*X.shape[0]\n",
    "print(split)\n",
    "split=int(split)\n",
    "print(\"split length:\",split)\n",
    "print()\n",
    "\n",
    "X_train= X[:split,:]\n",
    "Y_train=Y[:split]\n",
    "X_test=X[split:,:]\n",
    "Y_test=Y[split:]\n",
    "\n",
    "print(\"X_train:\",X_train.shape)\n",
    "print(\"X_test:\",X_test.shape)\n",
    "print(\"Y_train:\",Y_train.shape)\n",
    "print(\"Y_test:\",Y_test.shape)"
   ]
  },
  {
   "cell_type": "code",
   "execution_count": 14,
   "metadata": {},
   "outputs": [
    {
     "data": {
      "text/plain": [
       "array([[-1.23495068, -0.7579725 , -0.17361158, ...,  0.28694494,\n",
       "         0.34274206, -0.21764984],\n",
       "       [-0.41825733, -0.7579725 , -0.17361158, ...,  0.71932721,\n",
       "         1.59027212, -0.26144436],\n",
       "       [-0.18491638,  0.92583694, -0.17361158, ..., -0.1135    ,\n",
       "        -0.0731013 , -0.52421143],\n",
       "       ...,\n",
       "       [-0.0682459 , -0.7579725 , -0.17361158, ..., -1.13549444,\n",
       "        -0.15626997,  0.2640898 ],\n",
       "       [ 2.1484932 ,  0.50488458, -0.17361158, ..., -0.65643454,\n",
       "        -0.0731013 , -0.43662241],\n",
       "       [-1.23495068,  0.92583694, -0.17361158, ..., -0.0717358 ,\n",
       "        -0.98795668,  0.96480201]])"
      ]
     },
     "execution_count": 14,
     "metadata": {},
     "output_type": "execute_result"
    }
   ],
   "source": [
    "X_train"
   ]
  },
  {
   "cell_type": "markdown",
   "metadata": {},
   "source": [
    "### step2 : LR Implementation"
   ]
  },
  {
   "cell_type": "code",
   "execution_count": 15,
   "metadata": {},
   "outputs": [],
   "source": [
    " def sigmoid(z):\n",
    "        return 1.0/(1.0 + np.exp(-z))\n",
    "        "
   ]
  },
  {
   "cell_type": "code",
   "execution_count": 16,
   "metadata": {},
   "outputs": [
    {
     "data": {
      "text/plain": [
       "1.0"
      ]
     },
     "execution_count": 16,
     "metadata": {},
     "output_type": "execute_result"
    }
   ],
   "source": [
    "#sigmoid value for a large number is 1\n",
    "sigmoid(100)"
   ]
  },
  {
   "cell_type": "code",
   "execution_count": 17,
   "metadata": {},
   "outputs": [
    {
     "data": {
      "text/plain": [
       "3.7200759760208356e-44"
      ]
     },
     "execution_count": 17,
     "metadata": {},
     "output_type": "execute_result"
    }
   ],
   "source": [
    "#sigmoid value for a smaller number is approx 0\n",
    "sigmoid(-100)"
   ]
  },
  {
   "cell_type": "code",
   "execution_count": 18,
   "metadata": {},
   "outputs": [],
   "source": [
    "def hypothesis(x,theta):\n",
    "    \"\"\"\n",
    "    x= entire data array(with 0th column as 1, added mannually): m,n+1\n",
    "    theta= n+1,1\n",
    "    \"\"\"\n",
    "    #this gives gavues of the \"prediction\" we are making\n",
    "    return sigmoid(np.dot(x,theta))"
   ]
  },
  {
   "cell_type": "code",
   "execution_count": 19,
   "metadata": {},
   "outputs": [],
   "source": [
    "# to find optimal theta\n",
    "# error (or) cost function\n",
    "# cost function is a \"convex curve\",thus global minima can be obtained, using \"gradient descent\" \n",
    "def error(x,y,theta):\n",
    "    \"\"\"\n",
    "    x=m,n+1\n",
    "    y=m,1\n",
    "    theta=n+1,1\n",
    "    \n",
    "    return : scalar_value =loss\n",
    "    \"\"\"\n",
    "    hi=hypothesis(x,theta)\n",
    "    #finding error\n",
    "    e=-1*np.mean((y*np.log(hi) +  (1-y)*np.log(1-hi)))\n",
    "    return e"
   ]
  },
  {
   "cell_type": "code",
   "execution_count": 20,
   "metadata": {},
   "outputs": [],
   "source": [
    "# initially theta has all values as 0\n",
    "# thus our separating line, initially is the x -axis"
   ]
  },
  {
   "cell_type": "code",
   "execution_count": 21,
   "metadata": {},
   "outputs": [],
   "source": [
    "def gradient(x,y,theta):\n",
    "    \"\"\"\n",
    "    x=m,n+1\n",
    "    y=m,1\n",
    "    theta=n+1,1\n",
    "    \n",
    "    return : gradient_vector =(n+1,1)\n",
    "    \"\"\"\n",
    "    hi=hypothesis(x,theta)\n",
    "    # \"hi\" is our prediction , based on current \"theta\"\n",
    "    grad=-np.dot(x.T,(y-hi))\n",
    "    m=x.shape[0]\n",
    "    return grad/m\n",
    "    \n",
    "    "
   ]
  },
  {
   "cell_type": "code",
   "execution_count": 22,
   "metadata": {},
   "outputs": [],
   "source": [
    "def gradient_descent(x,y,lr=0.1,max_itr=200):\n",
    "    \"\"\"\n",
    "    lr:learning rate\n",
    "    max_itr: max iterations we will take, to get optimal theta\n",
    "    x=m,n+1\n",
    "    y=m,1\n",
    "    \"\"\"\n",
    "    #no of attributes , for each row \n",
    "    n=X.shape[1]\n",
    "    theta=np.zeros((n+1,1))\n",
    "    \n",
    "    error_list=[]\n",
    "    # we will \"error_list\" in graph\n",
    "    \n",
    "    for i in range(max_itr):\n",
    "        err=error(x,y,theta)\n",
    "        error_list.append(err)\n",
    "        \n",
    "        grad=gradient(x,y,theta)\n",
    "        #update theta using \"gradient descent\"\n",
    "        theta=theta-(lr*grad)\n",
    "    return (theta,error_list)\n",
    "        \n",
    "    "
   ]
  },
  {
   "cell_type": "code",
   "execution_count": 23,
   "metadata": {},
   "outputs": [
    {
     "data": {
      "text/plain": [
       "array([[0.],\n",
       "       [0.],\n",
       "       [0.],\n",
       "       [0.],\n",
       "       [0.],\n",
       "       [0.],\n",
       "       [0.],\n",
       "       [0.],\n",
       "       [0.],\n",
       "       [0.],\n",
       "       [0.]])"
      ]
     },
     "execution_count": 23,
     "metadata": {},
     "output_type": "execute_result"
    }
   ],
   "source": [
    "# initial theta\n",
    "# thus our separating line, initially is the x -axis\n",
    "n=X.shape[1]\n",
    "theta=np.zeros((n,1))\n",
    "theta"
   ]
  },
  {
   "cell_type": "code",
   "execution_count": 24,
   "metadata": {},
   "outputs": [
    {
     "name": "stdout",
     "output_type": "stream",
     "text": [
      "after reshaping Y_train_new: [[0.]\n",
      " [0.]\n",
      " [0.]\n",
      " ...\n",
      " [0.]\n",
      " [1.]\n",
      " [0.]]\n",
      "old shape (2966, 11)\n",
      "new shape (2966, 12)\n",
      "1st column= [1. 1. 1. ... 1. 1. 1.]\n"
     ]
    }
   ],
   "source": [
    "# adding a column of \"1\" as the 1st column, to existing training set\n",
    "ones=np.ones((X_train.shape[0],1))\n",
    "X_new_train=np.hstack((ones,X_train))\n",
    "\n",
    "#converting Y_train, from horizontal to vertical vector\n",
    "Y_train_new=Y_train.reshape((-1,1))\n",
    "print(\"after reshaping Y_train_new:\",Y_train_new)\n",
    "print(\"old shape\",X_train.shape)\n",
    "print(\"new shape\",X_new_train.shape)\n",
    "#printing 1st column\n",
    "print(\"1st column=\",X_new_train[:,0]) "
   ]
  },
  {
   "cell_type": "code",
   "execution_count": 25,
   "metadata": {},
   "outputs": [
    {
     "data": {
      "text/plain": [
       "[<matplotlib.lines.Line2D at 0xd39a18>]"
      ]
     },
     "execution_count": 25,
     "metadata": {},
     "output_type": "execute_result"
    },
    {
     "data": {
      "image/png": "[encoded data removed]",
      "text/plain": [
       "<Figure size 432x288 with 1 Axes>"
      ]
     },
     "metadata": {
      "needs_background": "light"
     },
     "output_type": "display_data"
    }
   ],
   "source": [
    "theta,error_list=gradient_descent(X_new_train,Y_train_new)\n",
    "plt.plot(error_list)"
   ]
  },
  {
   "cell_type": "code",
   "execution_count": 26,
   "metadata": {},
   "outputs": [
    {
     "data": {
      "text/plain": [
       "[<matplotlib.lines.Line2D at 0x14b5dd8>]"
      ]
     },
     "execution_count": 26,
     "metadata": {},
     "output_type": "execute_result"
    },
    {
     "data": {
      "image/png": "[encoded data removed]",
      "text/plain": [
       "<Figure size 432x288 with 1 Axes>"
      ]
     },
     "metadata": {
      "needs_background": "light"
     },
     "output_type": "display_data"
    }
   ],
   "source": [
    "# \"error\" decreases sharply, with higher \"learning rate\"\n",
    "theta,error_list=gradient_descent(X_new_train,Y_train_new,lr=0.5)\n",
    "plt.plot(error_list)"
   ]
  },
  {
   "cell_type": "code",
   "execution_count": 27,
   "metadata": {},
   "outputs": [
    {
     "data": {
      "text/plain": [
       "array([[-1.93146029],\n",
       "       [ 0.53168476],\n",
       "       [ 0.35596401],\n",
       "       [ 0.00351694],\n",
       "       [ 0.09275231],\n",
       "       [ 0.08587911],\n",
       "       [ 0.05789626],\n",
       "       [ 0.26928482],\n",
       "       [ 0.00463666],\n",
       "       [ 0.06188608],\n",
       "       [-0.06350457],\n",
       "       [ 0.22896026]])"
      ]
     },
     "execution_count": 27,
     "metadata": {},
     "output_type": "execute_result"
    }
   ],
   "source": [
    "#printing optimal theta\n",
    "theta"
   ]
  },
  {
   "cell_type": "code",
   "execution_count": null,
   "metadata": {},
   "outputs": [],
   "source": []
  },
  {
   "cell_type": "code",
   "execution_count": null,
   "metadata": {},
   "outputs": [],
   "source": []
  },
  {
   "cell_type": "markdown",
   "metadata": {},
   "source": [
    "### step 3: Testing with \"Testing Set\""
   ]
  },
  {
   "cell_type": "code",
   "execution_count": 28,
   "metadata": {},
   "outputs": [],
   "source": [
    "def predict(x,theta):\n",
    "    h=hypothesis(x,theta)\n",
    "    output=np.zeros(h.shape)\n",
    "    \n",
    "    output[h>=0.5]=1\n",
    "    output=output.astype('int')\n",
    "    return output,h"
   ]
  },
  {
   "cell_type": "code",
   "execution_count": 29,
   "metadata": {},
   "outputs": [
    {
     "name": "stdout",
     "output_type": "stream",
     "text": [
      "old shape (1272, 11)\n",
      "new shape (1272, 12)\n",
      "printing 1st 3 rows,columns of X_new_train:\n",
      "[[ 1.          0.51510649 -0.7579725  -0.17361158]\n",
      " [ 1.         -0.65159829 -0.50540109 -0.17361158]\n",
      " [ 1.         -0.41825733  2.8622178  -0.17361158]]\n",
      "Y_test_new:\n",
      "[[0.]\n",
      " [0.]\n",
      " [0.]\n",
      " ...\n",
      " [0.]\n",
      " [0.]\n",
      " [0.]]\n"
     ]
    }
   ],
   "source": [
    "# adding a column of \"1\" as the 1st column, to testing set\n",
    "ones=np.ones((X_test.shape[0],1))\n",
    "X_new_test=np.hstack((ones,X_test))\n",
    "\n",
    "\n",
    "print(\"old shape\",X_test.shape)\n",
    "print(\"new shape\",X_new_test.shape)\n",
    "#printing 1st column\n",
    "print(\"printing 1st 3 rows,columns of X_new_train:\")\n",
    "print(X_new_test[:3,:4]) \n",
    "\n",
    "#converting Y_test, from horizontal to vertical vector\n",
    "Y_test_new=Y_test.reshape((-1,1))\n",
    "print(\"Y_test_new:\")\n",
    "print(Y_test_new)"
   ]
  },
  {
   "cell_type": "code",
   "execution_count": 31,
   "metadata": {},
   "outputs": [
    {
     "name": "stdout",
     "output_type": "stream",
     "text": [
      "h= [[0.03361241]\n",
      " [0.06136984]\n",
      " [0.12590923]\n",
      " ...\n",
      " [0.08162008]\n",
      " [0.32750229]\n",
      " [0.08385317]]\n",
      "train_data_preds= [[0]\n",
      " [0]\n",
      " [0]\n",
      " ...\n",
      " [0]\n",
      " [0]\n",
      " [0]]\n"
     ]
    }
   ],
   "source": [
    "train_data_preds,h=predict(X_new_train,theta)\n",
    "# hypothesis or prediction\n",
    "print(\"h=\",h)\n",
    "print(\"train_data_preds=\",train_data_preds)\n",
    "\n",
    "#doing similarily for test data\n",
    "test_data_preds,_=predict(X_new_test,theta)"
   ]
  },
  {
   "cell_type": "code",
   "execution_count": 32,
   "metadata": {},
   "outputs": [],
   "source": [
    "def accuracy(actual,preds):\n",
    "    actual=actual.astype('int')\n",
    "    #ensure that \"actua\",\"preds\" are vertical vectors, with same dimensions\n",
    "    correctPred=np.sum(actual==preds)\n",
    "    acc=correctPred/actual.shape[0]\n",
    "    return acc*100\n",
    "\n",
    "    "
   ]
  },
  {
   "cell_type": "code",
   "execution_count": 33,
   "metadata": {},
   "outputs": [
    {
     "name": "stdout",
     "output_type": "stream",
     "text": [
      "85.56979096426163\n"
     ]
    }
   ],
   "source": [
    "train_acc=accuracy(Y_train_new,train_data_preds)\n",
    "\n",
    "print(train_acc)"
   ]
  },
  {
   "cell_type": "code",
   "execution_count": 34,
   "metadata": {},
   "outputs": [
    {
     "name": "stdout",
     "output_type": "stream",
     "text": [
      "85.45597484276729\n"
     ]
    }
   ],
   "source": [
    "test_acc=accuracy(Y_test_new,test_data_preds)\n",
    "print(test_acc)"
   ]
  },
  {
   "cell_type": "code",
   "execution_count": null,
   "metadata": {},
   "outputs": [],
   "source": []
  },
  {
   "cell_type": "markdown",
   "metadata": {},
   "source": [
    "# Prediction using inbuilt SKLearn (LR model)"
   ]
  },
  {
   "cell_type": "code",
   "execution_count": 35,
   "metadata": {},
   "outputs": [],
   "source": [
    "from sklearn.linear_model import LogisticRegression"
   ]
  },
  {
   "cell_type": "code",
   "execution_count": 36,
   "metadata": {},
   "outputs": [],
   "source": [
    "model=LogisticRegression()"
   ]
  },
  {
   "cell_type": "markdown",
   "metadata": {},
   "source": [
    "### training the model"
   ]
  },
  {
   "cell_type": "code",
   "execution_count": 37,
   "metadata": {},
   "outputs": [
    {
     "data": {
      "text/plain": [
       "LogisticRegression()"
      ]
     },
     "execution_count": 37,
     "metadata": {},
     "output_type": "execute_result"
    }
   ],
   "source": [
    "model.fit(X_train,Y_train)"
   ]
  },
  {
   "cell_type": "code",
   "execution_count": 38,
   "metadata": {},
   "outputs": [
    {
     "name": "stdout",
     "output_type": "stream",
     "text": [
      "[-1.93114384] [[ 0.52983875  0.35495884  0.00355258  0.09267198  0.08512786  0.05786933\n",
      "   0.27142914  0.00309357  0.06203515 -0.06332246  0.2283812 ]]\n",
      "\n",
      "\n",
      "comapring it with the theta that we got, previously:\n",
      "\n",
      "[[-1.93146029]\n",
      " [ 0.53168476]\n",
      " [ 0.35596401]\n",
      " [ 0.00351694]\n",
      " [ 0.09275231]\n",
      " [ 0.08587911]\n",
      " [ 0.05789626]\n",
      " [ 0.26928482]\n",
      " [ 0.00463666]\n",
      " [ 0.06188608]\n",
      " [-0.06350457]\n",
      " [ 0.22896026]]\n"
     ]
    }
   ],
   "source": [
    "# for 1st value\n",
    "theta_0=model.intercept_\n",
    "#for rest of the values\n",
    "theta_s=model.coef_\n",
    "print(theta_0,theta_s)\n",
    "\n",
    "\n",
    "\n",
    "# compare these values , with \"optimal theta\" that we got\n",
    "print(\"\\n\\ncomapring it with the theta that we got, previously:\\n\")\n",
    "print(theta)"
   ]
  },
  {
   "cell_type": "markdown",
   "metadata": {},
   "source": [
    "### calculating Score"
   ]
  },
  {
   "cell_type": "code",
   "execution_count": 39,
   "metadata": {},
   "outputs": [
    {
     "data": {
      "text/plain": [
       "85.53607552258936"
      ]
     },
     "execution_count": 39,
     "metadata": {},
     "output_type": "execute_result"
    }
   ],
   "source": [
    "#score on training data\n",
    "model.score(X_train,Y_train)*100"
   ]
  },
  {
   "cell_type": "code",
   "execution_count": 40,
   "metadata": {
    "scrolled": true
   },
   "outputs": [
    {
     "data": {
      "text/plain": [
       "85.45597484276729"
      ]
     },
     "execution_count": 40,
     "metadata": {},
     "output_type": "execute_result"
    }
   ],
   "source": [
    "#score on testing data\n",
    "model.score(X_test,Y_test)*100"
   ]
  },
  {
   "cell_type": "markdown",
   "metadata": {},
   "source": [
    "### measuring Performane by evaluating Parameters"
   ]
  },
  {
   "cell_type": "code",
   "execution_count": 41,
   "metadata": {},
   "outputs": [],
   "source": [
    "Y_pred=model.predict(X_test)"
   ]
  },
  {
   "cell_type": "code",
   "execution_count": 42,
   "metadata": {},
   "outputs": [],
   "source": [
    "def evaluateParameters(Y_pred,Y_test):\n",
    "    tp,tn,fp,fn=0,0,0,0\n",
    "    for i in range(len(Y_test)):\n",
    "        actual=Y_test[i]\n",
    "        if(actual==1):\n",
    "            if(actual==Y_pred[i]):\n",
    "                tp+=1\n",
    "            else:\n",
    "                fn+=1\n",
    "        else:\n",
    "            if(actual==Y_pred[i]):\n",
    "                tn+=1\n",
    "            else:\n",
    "                fp+=1\n",
    "    print(\"\\naccuracy= \",(tp+tn)/(tp+tn+fn+fp))\n",
    "    print(\"\\nsensitivity= \",tp/(tp+fn))\n",
    "    print(\"\\nspecificity= \",tn/(fp+tn))\n",
    "    print(\"\\nPPv= \",tp/(tp+fp))\n",
    "    print(\"\\nNPV= \",tn/(tn+fn))\n",
    "    \n",
    "            \n",
    "            "
   ]
  },
  {
   "cell_type": "code",
   "execution_count": 43,
   "metadata": {},
   "outputs": [
    {
     "name": "stdout",
     "output_type": "stream",
     "text": [
      "\n",
      "accuracy=  0.8545597484276729\n",
      "\n",
      "sensitivity=  0.06349206349206349\n",
      "\n",
      "specificity=  0.9926131117266851\n",
      "\n",
      "PPv=  0.6\n",
      "\n",
      "NPV=  0.8586261980830671\n"
     ]
    }
   ],
   "source": [
    "evaluateParameters(Y_pred,Y_test)"
   ]
  },
  {
   "cell_type": "markdown",
   "metadata": {},
   "source": [
    "# saving trained model, to deploy on web"
   ]
  },
  {
   "cell_type": "code",
   "execution_count": 46,
   "metadata": {},
   "outputs": [],
   "source": [
    "import pickle"
   ]
  },
  {
   "cell_type": "code",
   "execution_count": 47,
   "metadata": {},
   "outputs": [],
   "source": [
    "with open('lr_model.pkl','wb') as f:\n",
    "    pickle.dump(model,f)"
   ]
  },
  {
   "cell_type": "code",
   "execution_count": null,
   "metadata": {},
   "outputs": [],
   "source": []
  }
 ],
 "metadata": {
  "kernelspec": {
   "display_name": "Python 3",
   "language": "python",
   "name": "python3"
  },
  "language_info": {
   "codemirror_mode": {
    "name": "ipython",
    "version": 3
   },
   "file_extension": ".py",
   "mimetype": "text/x-python",
   "name": "python",
   "nbconvert_exporter": "python",
   "pygments_lexer": "ipython3",
   "version": "3.8.2"
  }
 },
 "nbformat": 4,
 "nbformat_minor": 4
}
