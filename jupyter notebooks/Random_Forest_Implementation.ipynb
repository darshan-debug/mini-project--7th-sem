{
 "cells": [
  {
   "cell_type": "code",
   "execution_count": 1,
   "metadata": {},
   "outputs": [],
   "source": [
    "import pandas as pd\n",
    "import numpy as np"
   ]
  },
  {
   "cell_type": "code",
   "execution_count": 2,
   "metadata": {},
   "outputs": [
    {
     "data": {
      "text/html": [
       "<div>\n",
       "<style scoped>\n",
       "    .dataframe tbody tr th:only-of-type {\n",
       "        vertical-align: middle;\n",
       "    }\n",
       "\n",
       "    .dataframe tbody tr th {\n",
       "        vertical-align: top;\n",
       "    }\n",
       "\n",
       "    .dataframe thead th {\n",
       "        text-align: right;\n",
       "    }\n",
       "</style>\n",
       "<table border=\"1\" class=\"dataframe\">\n",
       "  <thead>\n",
       "    <tr style=\"text-align: right;\">\n",
       "      <th></th>\n",
       "      <th>male</th>\n",
       "      <th>age</th>\n",
       "      <th>education</th>\n",
       "      <th>currentSmoker</th>\n",
       "      <th>cigsPerDay</th>\n",
       "      <th>BPMeds</th>\n",
       "      <th>prevalentStroke</th>\n",
       "      <th>prevalentHyp</th>\n",
       "      <th>diabetes</th>\n",
       "      <th>totChol</th>\n",
       "      <th>sysBP</th>\n",
       "      <th>diaBP</th>\n",
       "      <th>BMI</th>\n",
       "      <th>heartRate</th>\n",
       "      <th>glucose</th>\n",
       "      <th>POSSIBILITY OF CVD</th>\n",
       "    </tr>\n",
       "  </thead>\n",
       "  <tbody>\n",
       "    <tr>\n",
       "      <th>0</th>\n",
       "      <td>1</td>\n",
       "      <td>39</td>\n",
       "      <td>4.0</td>\n",
       "      <td>0</td>\n",
       "      <td>0.0</td>\n",
       "      <td>0.0</td>\n",
       "      <td>0</td>\n",
       "      <td>0</td>\n",
       "      <td>0</td>\n",
       "      <td>195.0</td>\n",
       "      <td>106.0</td>\n",
       "      <td>70.0</td>\n",
       "      <td>26.97</td>\n",
       "      <td>80.0</td>\n",
       "      <td>77.0</td>\n",
       "      <td>0</td>\n",
       "    </tr>\n",
       "    <tr>\n",
       "      <th>1</th>\n",
       "      <td>0</td>\n",
       "      <td>46</td>\n",
       "      <td>2.0</td>\n",
       "      <td>0</td>\n",
       "      <td>0.0</td>\n",
       "      <td>0.0</td>\n",
       "      <td>0</td>\n",
       "      <td>0</td>\n",
       "      <td>0</td>\n",
       "      <td>250.0</td>\n",
       "      <td>121.0</td>\n",
       "      <td>81.0</td>\n",
       "      <td>28.73</td>\n",
       "      <td>95.0</td>\n",
       "      <td>76.0</td>\n",
       "      <td>0</td>\n",
       "    </tr>\n",
       "    <tr>\n",
       "      <th>2</th>\n",
       "      <td>1</td>\n",
       "      <td>48</td>\n",
       "      <td>1.0</td>\n",
       "      <td>1</td>\n",
       "      <td>20.0</td>\n",
       "      <td>0.0</td>\n",
       "      <td>0</td>\n",
       "      <td>0</td>\n",
       "      <td>0</td>\n",
       "      <td>245.0</td>\n",
       "      <td>127.5</td>\n",
       "      <td>80.0</td>\n",
       "      <td>25.34</td>\n",
       "      <td>75.0</td>\n",
       "      <td>70.0</td>\n",
       "      <td>0</td>\n",
       "    </tr>\n",
       "    <tr>\n",
       "      <th>3</th>\n",
       "      <td>0</td>\n",
       "      <td>61</td>\n",
       "      <td>3.0</td>\n",
       "      <td>1</td>\n",
       "      <td>30.0</td>\n",
       "      <td>0.0</td>\n",
       "      <td>0</td>\n",
       "      <td>1</td>\n",
       "      <td>0</td>\n",
       "      <td>225.0</td>\n",
       "      <td>150.0</td>\n",
       "      <td>95.0</td>\n",
       "      <td>28.58</td>\n",
       "      <td>65.0</td>\n",
       "      <td>103.0</td>\n",
       "      <td>1</td>\n",
       "    </tr>\n",
       "    <tr>\n",
       "      <th>4</th>\n",
       "      <td>0</td>\n",
       "      <td>46</td>\n",
       "      <td>3.0</td>\n",
       "      <td>1</td>\n",
       "      <td>23.0</td>\n",
       "      <td>0.0</td>\n",
       "      <td>0</td>\n",
       "      <td>0</td>\n",
       "      <td>0</td>\n",
       "      <td>285.0</td>\n",
       "      <td>130.0</td>\n",
       "      <td>84.0</td>\n",
       "      <td>23.10</td>\n",
       "      <td>85.0</td>\n",
       "      <td>85.0</td>\n",
       "      <td>0</td>\n",
       "    </tr>\n",
       "    <tr>\n",
       "      <th>...</th>\n",
       "      <td>...</td>\n",
       "      <td>...</td>\n",
       "      <td>...</td>\n",
       "      <td>...</td>\n",
       "      <td>...</td>\n",
       "      <td>...</td>\n",
       "      <td>...</td>\n",
       "      <td>...</td>\n",
       "      <td>...</td>\n",
       "      <td>...</td>\n",
       "      <td>...</td>\n",
       "      <td>...</td>\n",
       "      <td>...</td>\n",
       "      <td>...</td>\n",
       "      <td>...</td>\n",
       "      <td>...</td>\n",
       "    </tr>\n",
       "    <tr>\n",
       "      <th>4233</th>\n",
       "      <td>1</td>\n",
       "      <td>50</td>\n",
       "      <td>1.0</td>\n",
       "      <td>1</td>\n",
       "      <td>1.0</td>\n",
       "      <td>0.0</td>\n",
       "      <td>0</td>\n",
       "      <td>1</td>\n",
       "      <td>0</td>\n",
       "      <td>313.0</td>\n",
       "      <td>179.0</td>\n",
       "      <td>92.0</td>\n",
       "      <td>25.97</td>\n",
       "      <td>66.0</td>\n",
       "      <td>86.0</td>\n",
       "      <td>1</td>\n",
       "    </tr>\n",
       "    <tr>\n",
       "      <th>4234</th>\n",
       "      <td>1</td>\n",
       "      <td>51</td>\n",
       "      <td>3.0</td>\n",
       "      <td>1</td>\n",
       "      <td>43.0</td>\n",
       "      <td>0.0</td>\n",
       "      <td>0</td>\n",
       "      <td>0</td>\n",
       "      <td>0</td>\n",
       "      <td>207.0</td>\n",
       "      <td>126.5</td>\n",
       "      <td>80.0</td>\n",
       "      <td>19.71</td>\n",
       "      <td>65.0</td>\n",
       "      <td>68.0</td>\n",
       "      <td>0</td>\n",
       "    </tr>\n",
       "    <tr>\n",
       "      <th>4235</th>\n",
       "      <td>0</td>\n",
       "      <td>48</td>\n",
       "      <td>2.0</td>\n",
       "      <td>1</td>\n",
       "      <td>20.0</td>\n",
       "      <td>NaN</td>\n",
       "      <td>0</td>\n",
       "      <td>0</td>\n",
       "      <td>0</td>\n",
       "      <td>248.0</td>\n",
       "      <td>131.0</td>\n",
       "      <td>72.0</td>\n",
       "      <td>22.00</td>\n",
       "      <td>84.0</td>\n",
       "      <td>86.0</td>\n",
       "      <td>0</td>\n",
       "    </tr>\n",
       "    <tr>\n",
       "      <th>4236</th>\n",
       "      <td>0</td>\n",
       "      <td>44</td>\n",
       "      <td>1.0</td>\n",
       "      <td>1</td>\n",
       "      <td>15.0</td>\n",
       "      <td>0.0</td>\n",
       "      <td>0</td>\n",
       "      <td>0</td>\n",
       "      <td>0</td>\n",
       "      <td>210.0</td>\n",
       "      <td>126.5</td>\n",
       "      <td>87.0</td>\n",
       "      <td>19.16</td>\n",
       "      <td>86.0</td>\n",
       "      <td>NaN</td>\n",
       "      <td>0</td>\n",
       "    </tr>\n",
       "    <tr>\n",
       "      <th>4237</th>\n",
       "      <td>0</td>\n",
       "      <td>52</td>\n",
       "      <td>2.0</td>\n",
       "      <td>0</td>\n",
       "      <td>0.0</td>\n",
       "      <td>0.0</td>\n",
       "      <td>0</td>\n",
       "      <td>0</td>\n",
       "      <td>0</td>\n",
       "      <td>269.0</td>\n",
       "      <td>133.5</td>\n",
       "      <td>83.0</td>\n",
       "      <td>21.47</td>\n",
       "      <td>80.0</td>\n",
       "      <td>107.0</td>\n",
       "      <td>0</td>\n",
       "    </tr>\n",
       "  </tbody>\n",
       "</table>\n",
       "<p>4238 rows × 16 columns</p>\n",
       "</div>"
      ],
      "text/plain": [
       "      male  age  education  currentSmoker  cigsPerDay  BPMeds  \\\n",
       "0        1   39        4.0              0         0.0     0.0   \n",
       "1        0   46        2.0              0         0.0     0.0   \n",
       "2        1   48        1.0              1        20.0     0.0   \n",
       "3        0   61        3.0              1        30.0     0.0   \n",
       "4        0   46        3.0              1        23.0     0.0   \n",
       "...    ...  ...        ...            ...         ...     ...   \n",
       "4233     1   50        1.0              1         1.0     0.0   \n",
       "4234     1   51        3.0              1        43.0     0.0   \n",
       "4235     0   48        2.0              1        20.0     NaN   \n",
       "4236     0   44        1.0              1        15.0     0.0   \n",
       "4237     0   52        2.0              0         0.0     0.0   \n",
       "\n",
       "      prevalentStroke  prevalentHyp  diabetes  totChol  sysBP  diaBP    BMI  \\\n",
       "0                   0             0         0    195.0  106.0   70.0  26.97   \n",
       "1                   0             0         0    250.0  121.0   81.0  28.73   \n",
       "2                   0             0         0    245.0  127.5   80.0  25.34   \n",
       "3                   0             1         0    225.0  150.0   95.0  28.58   \n",
       "4                   0             0         0    285.0  130.0   84.0  23.10   \n",
       "...               ...           ...       ...      ...    ...    ...    ...   \n",
       "4233                0             1         0    313.0  179.0   92.0  25.97   \n",
       "4234                0             0         0    207.0  126.5   80.0  19.71   \n",
       "4235                0             0         0    248.0  131.0   72.0  22.00   \n",
       "4236                0             0         0    210.0  126.5   87.0  19.16   \n",
       "4237                0             0         0    269.0  133.5   83.0  21.47   \n",
       "\n",
       "      heartRate  glucose  POSSIBILITY OF CVD  \n",
       "0          80.0     77.0                   0  \n",
       "1          95.0     76.0                   0  \n",
       "2          75.0     70.0                   0  \n",
       "3          65.0    103.0                   1  \n",
       "4          85.0     85.0                   0  \n",
       "...         ...      ...                 ...  \n",
       "4233       66.0     86.0                   1  \n",
       "4234       65.0     68.0                   0  \n",
       "4235       84.0     86.0                   0  \n",
       "4236       86.0      NaN                   0  \n",
       "4237       80.0    107.0                   0  \n",
       "\n",
       "[4238 rows x 16 columns]"
      ]
     },
     "metadata": {},
     "output_type": "display_data"
    }
   ],
   "source": [
    "df=pd.read_csv(\"framingham.csv\")\n",
    "display(df)"
   ]
  },
  {
   "cell_type": "markdown",
   "metadata": {},
   "source": [
    "# Preprocessing Data"
   ]
  },
  {
   "cell_type": "code",
   "execution_count": 3,
   "metadata": {},
   "outputs": [
    {
     "data": {
      "text/html": [
       "<div>\n",
       "<style scoped>\n",
       "    .dataframe tbody tr th:only-of-type {\n",
       "        vertical-align: middle;\n",
       "    }\n",
       "\n",
       "    .dataframe tbody tr th {\n",
       "        vertical-align: top;\n",
       "    }\n",
       "\n",
       "    .dataframe thead th {\n",
       "        text-align: right;\n",
       "    }\n",
       "</style>\n",
       "<table border=\"1\" class=\"dataframe\">\n",
       "  <thead>\n",
       "    <tr style=\"text-align: right;\">\n",
       "      <th></th>\n",
       "      <th>age</th>\n",
       "      <th>cigsPerDay</th>\n",
       "      <th>BPMeds</th>\n",
       "      <th>prevalentStroke</th>\n",
       "      <th>prevalentHyp</th>\n",
       "      <th>totChol</th>\n",
       "      <th>sysBP</th>\n",
       "      <th>diaBP</th>\n",
       "      <th>BMI</th>\n",
       "      <th>heartRate</th>\n",
       "      <th>glucose</th>\n",
       "      <th>POSSIBILITY OF CVD</th>\n",
       "    </tr>\n",
       "  </thead>\n",
       "  <tbody>\n",
       "    <tr>\n",
       "      <th>0</th>\n",
       "      <td>39</td>\n",
       "      <td>0.0</td>\n",
       "      <td>0.0</td>\n",
       "      <td>0</td>\n",
       "      <td>0</td>\n",
       "      <td>195.0</td>\n",
       "      <td>106.0</td>\n",
       "      <td>70.0</td>\n",
       "      <td>26.97</td>\n",
       "      <td>80.0</td>\n",
       "      <td>77.0</td>\n",
       "      <td>0</td>\n",
       "    </tr>\n",
       "    <tr>\n",
       "      <th>1</th>\n",
       "      <td>46</td>\n",
       "      <td>0.0</td>\n",
       "      <td>0.0</td>\n",
       "      <td>0</td>\n",
       "      <td>0</td>\n",
       "      <td>250.0</td>\n",
       "      <td>121.0</td>\n",
       "      <td>81.0</td>\n",
       "      <td>28.73</td>\n",
       "      <td>95.0</td>\n",
       "      <td>76.0</td>\n",
       "      <td>0</td>\n",
       "    </tr>\n",
       "    <tr>\n",
       "      <th>2</th>\n",
       "      <td>48</td>\n",
       "      <td>20.0</td>\n",
       "      <td>0.0</td>\n",
       "      <td>0</td>\n",
       "      <td>0</td>\n",
       "      <td>245.0</td>\n",
       "      <td>127.5</td>\n",
       "      <td>80.0</td>\n",
       "      <td>25.34</td>\n",
       "      <td>75.0</td>\n",
       "      <td>70.0</td>\n",
       "      <td>0</td>\n",
       "    </tr>\n",
       "    <tr>\n",
       "      <th>3</th>\n",
       "      <td>61</td>\n",
       "      <td>30.0</td>\n",
       "      <td>0.0</td>\n",
       "      <td>0</td>\n",
       "      <td>1</td>\n",
       "      <td>225.0</td>\n",
       "      <td>150.0</td>\n",
       "      <td>95.0</td>\n",
       "      <td>28.58</td>\n",
       "      <td>65.0</td>\n",
       "      <td>103.0</td>\n",
       "      <td>1</td>\n",
       "    </tr>\n",
       "    <tr>\n",
       "      <th>4</th>\n",
       "      <td>46</td>\n",
       "      <td>23.0</td>\n",
       "      <td>0.0</td>\n",
       "      <td>0</td>\n",
       "      <td>0</td>\n",
       "      <td>285.0</td>\n",
       "      <td>130.0</td>\n",
       "      <td>84.0</td>\n",
       "      <td>23.10</td>\n",
       "      <td>85.0</td>\n",
       "      <td>85.0</td>\n",
       "      <td>0</td>\n",
       "    </tr>\n",
       "    <tr>\n",
       "      <th>...</th>\n",
       "      <td>...</td>\n",
       "      <td>...</td>\n",
       "      <td>...</td>\n",
       "      <td>...</td>\n",
       "      <td>...</td>\n",
       "      <td>...</td>\n",
       "      <td>...</td>\n",
       "      <td>...</td>\n",
       "      <td>...</td>\n",
       "      <td>...</td>\n",
       "      <td>...</td>\n",
       "      <td>...</td>\n",
       "    </tr>\n",
       "    <tr>\n",
       "      <th>4233</th>\n",
       "      <td>50</td>\n",
       "      <td>1.0</td>\n",
       "      <td>0.0</td>\n",
       "      <td>0</td>\n",
       "      <td>1</td>\n",
       "      <td>313.0</td>\n",
       "      <td>179.0</td>\n",
       "      <td>92.0</td>\n",
       "      <td>25.97</td>\n",
       "      <td>66.0</td>\n",
       "      <td>86.0</td>\n",
       "      <td>1</td>\n",
       "    </tr>\n",
       "    <tr>\n",
       "      <th>4234</th>\n",
       "      <td>51</td>\n",
       "      <td>43.0</td>\n",
       "      <td>0.0</td>\n",
       "      <td>0</td>\n",
       "      <td>0</td>\n",
       "      <td>207.0</td>\n",
       "      <td>126.5</td>\n",
       "      <td>80.0</td>\n",
       "      <td>19.71</td>\n",
       "      <td>65.0</td>\n",
       "      <td>68.0</td>\n",
       "      <td>0</td>\n",
       "    </tr>\n",
       "    <tr>\n",
       "      <th>4235</th>\n",
       "      <td>48</td>\n",
       "      <td>20.0</td>\n",
       "      <td>NaN</td>\n",
       "      <td>0</td>\n",
       "      <td>0</td>\n",
       "      <td>248.0</td>\n",
       "      <td>131.0</td>\n",
       "      <td>72.0</td>\n",
       "      <td>22.00</td>\n",
       "      <td>84.0</td>\n",
       "      <td>86.0</td>\n",
       "      <td>0</td>\n",
       "    </tr>\n",
       "    <tr>\n",
       "      <th>4236</th>\n",
       "      <td>44</td>\n",
       "      <td>15.0</td>\n",
       "      <td>0.0</td>\n",
       "      <td>0</td>\n",
       "      <td>0</td>\n",
       "      <td>210.0</td>\n",
       "      <td>126.5</td>\n",
       "      <td>87.0</td>\n",
       "      <td>19.16</td>\n",
       "      <td>86.0</td>\n",
       "      <td>NaN</td>\n",
       "      <td>0</td>\n",
       "    </tr>\n",
       "    <tr>\n",
       "      <th>4237</th>\n",
       "      <td>52</td>\n",
       "      <td>0.0</td>\n",
       "      <td>0.0</td>\n",
       "      <td>0</td>\n",
       "      <td>0</td>\n",
       "      <td>269.0</td>\n",
       "      <td>133.5</td>\n",
       "      <td>83.0</td>\n",
       "      <td>21.47</td>\n",
       "      <td>80.0</td>\n",
       "      <td>107.0</td>\n",
       "      <td>0</td>\n",
       "    </tr>\n",
       "  </tbody>\n",
       "</table>\n",
       "<p>4238 rows × 12 columns</p>\n",
       "</div>"
      ],
      "text/plain": [
       "      age  cigsPerDay  BPMeds  prevalentStroke  prevalentHyp  totChol  sysBP  \\\n",
       "0      39         0.0     0.0                0             0    195.0  106.0   \n",
       "1      46         0.0     0.0                0             0    250.0  121.0   \n",
       "2      48        20.0     0.0                0             0    245.0  127.5   \n",
       "3      61        30.0     0.0                0             1    225.0  150.0   \n",
       "4      46        23.0     0.0                0             0    285.0  130.0   \n",
       "...   ...         ...     ...              ...           ...      ...    ...   \n",
       "4233   50         1.0     0.0                0             1    313.0  179.0   \n",
       "4234   51        43.0     0.0                0             0    207.0  126.5   \n",
       "4235   48        20.0     NaN                0             0    248.0  131.0   \n",
       "4236   44        15.0     0.0                0             0    210.0  126.5   \n",
       "4237   52         0.0     0.0                0             0    269.0  133.5   \n",
       "\n",
       "      diaBP    BMI  heartRate  glucose  POSSIBILITY OF CVD  \n",
       "0      70.0  26.97       80.0     77.0                   0  \n",
       "1      81.0  28.73       95.0     76.0                   0  \n",
       "2      80.0  25.34       75.0     70.0                   0  \n",
       "3      95.0  28.58       65.0    103.0                   1  \n",
       "4      84.0  23.10       85.0     85.0                   0  \n",
       "...     ...    ...        ...      ...                 ...  \n",
       "4233   92.0  25.97       66.0     86.0                   1  \n",
       "4234   80.0  19.71       65.0     68.0                   0  \n",
       "4235   72.0  22.00       84.0     86.0                   0  \n",
       "4236   87.0  19.16       86.0      NaN                   0  \n",
       "4237   83.0  21.47       80.0    107.0                   0  \n",
       "\n",
       "[4238 rows x 12 columns]"
      ]
     },
     "execution_count": 3,
     "metadata": {},
     "output_type": "execute_result"
    }
   ],
   "source": [
    "# \"education\" showed -ve correlation, with target label\n",
    "# \"male\" was shown to be IN SIGNIFICANT, during T TEst(based on p-value)\n",
    "# \"diabetes\" was shown to be IN SIGNIFICANT, during T TEst(based on p-value)\n",
    "# \"currentSmoker\" fails in chi-square test\n",
    "df=df.drop(axis=1,labels=[\"male\",\"education\",\"diabetes\",\"currentSmoker\"])\n",
    "df"
   ]
  },
  {
   "cell_type": "code",
   "execution_count": 4,
   "metadata": {},
   "outputs": [
    {
     "name": "stdout",
     "output_type": "stream",
     "text": [
      "<class 'pandas.core.frame.DataFrame'>\n",
      "RangeIndex: 4238 entries, 0 to 4237\n",
      "Data columns (total 12 columns):\n",
      " #   Column              Non-Null Count  Dtype  \n",
      "---  ------              --------------  -----  \n",
      " 0   age                 4238 non-null   int64  \n",
      " 1   cigsPerDay          4209 non-null   float64\n",
      " 2   BPMeds              4185 non-null   float64\n",
      " 3   prevalentStroke     4238 non-null   int64  \n",
      " 4   prevalentHyp        4238 non-null   int64  \n",
      " 5   totChol             4188 non-null   float64\n",
      " 6   sysBP               4238 non-null   float64\n",
      " 7   diaBP               4238 non-null   float64\n",
      " 8   BMI                 4219 non-null   float64\n",
      " 9   heartRate           4237 non-null   float64\n",
      " 10  glucose             3850 non-null   float64\n",
      " 11  POSSIBILITY OF CVD  4238 non-null   int64  \n",
      "dtypes: float64(8), int64(4)\n",
      "memory usage: 397.4 KB\n"
     ]
    }
   ],
   "source": [
    "#To understand , which attribute has how many (\"NULL\" or NaN) values\n",
    "df.info()"
   ]
  },
  {
   "cell_type": "code",
   "execution_count": 5,
   "metadata": {},
   "outputs": [],
   "source": [
    "# each column has 4238 entries.\n",
    "# for attribute \"glucose\" , there are only 3850 \"not-NULL\" entries\n",
    "#df.fillna?\n"
   ]
  },
  {
   "cell_type": "code",
   "execution_count": 6,
   "metadata": {},
   "outputs": [
    {
     "data": {
      "text/html": [
       "<div>\n",
       "<style scoped>\n",
       "    .dataframe tbody tr th:only-of-type {\n",
       "        vertical-align: middle;\n",
       "    }\n",
       "\n",
       "    .dataframe tbody tr th {\n",
       "        vertical-align: top;\n",
       "    }\n",
       "\n",
       "    .dataframe thead th {\n",
       "        text-align: right;\n",
       "    }\n",
       "</style>\n",
       "<table border=\"1\" class=\"dataframe\">\n",
       "  <thead>\n",
       "    <tr style=\"text-align: right;\">\n",
       "      <th></th>\n",
       "      <th>age</th>\n",
       "      <th>cigsPerDay</th>\n",
       "      <th>BPMeds</th>\n",
       "      <th>prevalentStroke</th>\n",
       "      <th>prevalentHyp</th>\n",
       "      <th>totChol</th>\n",
       "      <th>sysBP</th>\n",
       "      <th>diaBP</th>\n",
       "      <th>BMI</th>\n",
       "      <th>heartRate</th>\n",
       "      <th>glucose</th>\n",
       "      <th>POSSIBILITY OF CVD</th>\n",
       "    </tr>\n",
       "  </thead>\n",
       "  <tbody>\n",
       "    <tr>\n",
       "      <th>0</th>\n",
       "      <td>39</td>\n",
       "      <td>0.0</td>\n",
       "      <td>0.0</td>\n",
       "      <td>0</td>\n",
       "      <td>0</td>\n",
       "      <td>195.0</td>\n",
       "      <td>106.0</td>\n",
       "      <td>70.0</td>\n",
       "      <td>26.97</td>\n",
       "      <td>80.0</td>\n",
       "      <td>77.0</td>\n",
       "      <td>0</td>\n",
       "    </tr>\n",
       "    <tr>\n",
       "      <th>1</th>\n",
       "      <td>46</td>\n",
       "      <td>0.0</td>\n",
       "      <td>0.0</td>\n",
       "      <td>0</td>\n",
       "      <td>0</td>\n",
       "      <td>250.0</td>\n",
       "      <td>121.0</td>\n",
       "      <td>81.0</td>\n",
       "      <td>28.73</td>\n",
       "      <td>95.0</td>\n",
       "      <td>76.0</td>\n",
       "      <td>0</td>\n",
       "    </tr>\n",
       "    <tr>\n",
       "      <th>2</th>\n",
       "      <td>48</td>\n",
       "      <td>20.0</td>\n",
       "      <td>0.0</td>\n",
       "      <td>0</td>\n",
       "      <td>0</td>\n",
       "      <td>245.0</td>\n",
       "      <td>127.5</td>\n",
       "      <td>80.0</td>\n",
       "      <td>25.34</td>\n",
       "      <td>75.0</td>\n",
       "      <td>70.0</td>\n",
       "      <td>0</td>\n",
       "    </tr>\n",
       "    <tr>\n",
       "      <th>3</th>\n",
       "      <td>61</td>\n",
       "      <td>30.0</td>\n",
       "      <td>0.0</td>\n",
       "      <td>0</td>\n",
       "      <td>1</td>\n",
       "      <td>225.0</td>\n",
       "      <td>150.0</td>\n",
       "      <td>95.0</td>\n",
       "      <td>28.58</td>\n",
       "      <td>65.0</td>\n",
       "      <td>103.0</td>\n",
       "      <td>1</td>\n",
       "    </tr>\n",
       "    <tr>\n",
       "      <th>4</th>\n",
       "      <td>46</td>\n",
       "      <td>23.0</td>\n",
       "      <td>0.0</td>\n",
       "      <td>0</td>\n",
       "      <td>0</td>\n",
       "      <td>285.0</td>\n",
       "      <td>130.0</td>\n",
       "      <td>84.0</td>\n",
       "      <td>23.10</td>\n",
       "      <td>85.0</td>\n",
       "      <td>85.0</td>\n",
       "      <td>0</td>\n",
       "    </tr>\n",
       "    <tr>\n",
       "      <th>...</th>\n",
       "      <td>...</td>\n",
       "      <td>...</td>\n",
       "      <td>...</td>\n",
       "      <td>...</td>\n",
       "      <td>...</td>\n",
       "      <td>...</td>\n",
       "      <td>...</td>\n",
       "      <td>...</td>\n",
       "      <td>...</td>\n",
       "      <td>...</td>\n",
       "      <td>...</td>\n",
       "      <td>...</td>\n",
       "    </tr>\n",
       "    <tr>\n",
       "      <th>4233</th>\n",
       "      <td>50</td>\n",
       "      <td>1.0</td>\n",
       "      <td>0.0</td>\n",
       "      <td>0</td>\n",
       "      <td>1</td>\n",
       "      <td>313.0</td>\n",
       "      <td>179.0</td>\n",
       "      <td>92.0</td>\n",
       "      <td>25.97</td>\n",
       "      <td>66.0</td>\n",
       "      <td>86.0</td>\n",
       "      <td>1</td>\n",
       "    </tr>\n",
       "    <tr>\n",
       "      <th>4234</th>\n",
       "      <td>51</td>\n",
       "      <td>43.0</td>\n",
       "      <td>0.0</td>\n",
       "      <td>0</td>\n",
       "      <td>0</td>\n",
       "      <td>207.0</td>\n",
       "      <td>126.5</td>\n",
       "      <td>80.0</td>\n",
       "      <td>19.71</td>\n",
       "      <td>65.0</td>\n",
       "      <td>68.0</td>\n",
       "      <td>0</td>\n",
       "    </tr>\n",
       "    <tr>\n",
       "      <th>4235</th>\n",
       "      <td>48</td>\n",
       "      <td>20.0</td>\n",
       "      <td>0.0</td>\n",
       "      <td>0</td>\n",
       "      <td>0</td>\n",
       "      <td>248.0</td>\n",
       "      <td>131.0</td>\n",
       "      <td>72.0</td>\n",
       "      <td>22.00</td>\n",
       "      <td>84.0</td>\n",
       "      <td>86.0</td>\n",
       "      <td>0</td>\n",
       "    </tr>\n",
       "    <tr>\n",
       "      <th>4236</th>\n",
       "      <td>44</td>\n",
       "      <td>15.0</td>\n",
       "      <td>0.0</td>\n",
       "      <td>0</td>\n",
       "      <td>0</td>\n",
       "      <td>210.0</td>\n",
       "      <td>126.5</td>\n",
       "      <td>87.0</td>\n",
       "      <td>19.16</td>\n",
       "      <td>86.0</td>\n",
       "      <td>82.0</td>\n",
       "      <td>0</td>\n",
       "    </tr>\n",
       "    <tr>\n",
       "      <th>4237</th>\n",
       "      <td>52</td>\n",
       "      <td>0.0</td>\n",
       "      <td>0.0</td>\n",
       "      <td>0</td>\n",
       "      <td>0</td>\n",
       "      <td>269.0</td>\n",
       "      <td>133.5</td>\n",
       "      <td>83.0</td>\n",
       "      <td>21.47</td>\n",
       "      <td>80.0</td>\n",
       "      <td>107.0</td>\n",
       "      <td>0</td>\n",
       "    </tr>\n",
       "  </tbody>\n",
       "</table>\n",
       "<p>4238 rows × 12 columns</p>\n",
       "</div>"
      ],
      "text/plain": [
       "      age  cigsPerDay  BPMeds  prevalentStroke  prevalentHyp  totChol  sysBP  \\\n",
       "0      39         0.0     0.0                0             0    195.0  106.0   \n",
       "1      46         0.0     0.0                0             0    250.0  121.0   \n",
       "2      48        20.0     0.0                0             0    245.0  127.5   \n",
       "3      61        30.0     0.0                0             1    225.0  150.0   \n",
       "4      46        23.0     0.0                0             0    285.0  130.0   \n",
       "...   ...         ...     ...              ...           ...      ...    ...   \n",
       "4233   50         1.0     0.0                0             1    313.0  179.0   \n",
       "4234   51        43.0     0.0                0             0    207.0  126.5   \n",
       "4235   48        20.0     0.0                0             0    248.0  131.0   \n",
       "4236   44        15.0     0.0                0             0    210.0  126.5   \n",
       "4237   52         0.0     0.0                0             0    269.0  133.5   \n",
       "\n",
       "      diaBP    BMI  heartRate  glucose  POSSIBILITY OF CVD  \n",
       "0      70.0  26.97       80.0     77.0                   0  \n",
       "1      81.0  28.73       95.0     76.0                   0  \n",
       "2      80.0  25.34       75.0     70.0                   0  \n",
       "3      95.0  28.58       65.0    103.0                   1  \n",
       "4      84.0  23.10       85.0     85.0                   0  \n",
       "...     ...    ...        ...      ...                 ...  \n",
       "4233   92.0  25.97       66.0     86.0                   1  \n",
       "4234   80.0  19.71       65.0     68.0                   0  \n",
       "4235   72.0  22.00       84.0     86.0                   0  \n",
       "4236   87.0  19.16       86.0     82.0                   0  \n",
       "4237   83.0  21.47       80.0    107.0                   0  \n",
       "\n",
       "[4238 rows x 12 columns]"
      ]
     },
     "metadata": {},
     "output_type": "display_data"
    }
   ],
   "source": [
    "# for categorical attributes, we replace Nan with most frequent attribute\n",
    "#for continous attributes,we replace Nan with mean .\n",
    "\n",
    "#for continous attributes--->replace Nan with mean\n",
    "df[\"cigsPerDay\"]=df[\"cigsPerDay\"].fillna(round(df[\"cigsPerDay\"].mean()))\n",
    "df[\"totChol\"]=df[\"totChol\"].fillna(round(df[\"totChol\"].mean()))\n",
    "df[\"BMI\"]=df[\"BMI\"].fillna(round(df[\"BMI\"].mean(),2))\n",
    "df[\"heartRate\"]=df[\"heartRate\"].fillna(round(df[\"heartRate\"].mean()))\n",
    "df[\"glucose\"]=df[\"glucose\"].fillna(round(df[\"glucose\"].mean()))\n",
    "\n",
    "\n",
    "#for categorical attributes-->replace Nan with most freq value\n",
    "vall,freqq=np.unique(df[\"BPMeds\"],return_counts=True)\n",
    "#display(vall,freqq)\n",
    "df[\"BPMeds\"]=df[\"BPMeds\"].fillna(vall[freqq.argmax()])\n",
    "\n",
    "display(df)\n",
    "\n"
   ]
  },
  {
   "cell_type": "code",
   "execution_count": 7,
   "metadata": {},
   "outputs": [
    {
     "name": "stdout",
     "output_type": "stream",
     "text": [
      "<class 'pandas.core.frame.DataFrame'>\n",
      "RangeIndex: 4238 entries, 0 to 4237\n",
      "Data columns (total 12 columns):\n",
      " #   Column              Non-Null Count  Dtype  \n",
      "---  ------              --------------  -----  \n",
      " 0   age                 4238 non-null   int64  \n",
      " 1   cigsPerDay          4238 non-null   float64\n",
      " 2   BPMeds              4238 non-null   float64\n",
      " 3   prevalentStroke     4238 non-null   int64  \n",
      " 4   prevalentHyp        4238 non-null   int64  \n",
      " 5   totChol             4238 non-null   float64\n",
      " 6   sysBP               4238 non-null   float64\n",
      " 7   diaBP               4238 non-null   float64\n",
      " 8   BMI                 4238 non-null   float64\n",
      " 9   heartRate           4238 non-null   float64\n",
      " 10  glucose             4238 non-null   float64\n",
      " 11  POSSIBILITY OF CVD  4238 non-null   int64  \n",
      "dtypes: float64(8), int64(4)\n",
      "memory usage: 397.4 KB\n"
     ]
    }
   ],
   "source": [
    "df.info()"
   ]
  },
  {
   "cell_type": "code",
   "execution_count": 8,
   "metadata": {},
   "outputs": [],
   "source": [
    "#now all attributes, has all 4238 values present"
   ]
  },
  {
   "cell_type": "code",
   "execution_count": 9,
   "metadata": {},
   "outputs": [
    {
     "data": {
      "text/plain": [
       "age                    48.00\n",
       "cigsPerDay             20.00\n",
       "BPMeds                  0.00\n",
       "prevalentStroke         0.00\n",
       "prevalentHyp            0.00\n",
       "totChol               245.00\n",
       "sysBP                 127.50\n",
       "diaBP                  80.00\n",
       "BMI                    25.34\n",
       "heartRate              75.00\n",
       "glucose                70.00\n",
       "POSSIBILITY OF CVD      0.00\n",
       "Name: 2, dtype: float64"
      ]
     },
     "execution_count": 9,
     "metadata": {},
     "output_type": "execute_result"
    }
   ],
   "source": [
    "#how to access a row, in a DataFrame object\n",
    "#2nd row of df\n",
    "df.loc[2]"
   ]
  },
  {
   "cell_type": "code",
   "execution_count": 10,
   "metadata": {},
   "outputs": [
    {
     "data": {
      "text/plain": [
       "Index(['age', 'cigsPerDay', 'BPMeds', 'prevalentStroke', 'prevalentHyp',\n",
       "       'totChol', 'sysBP', 'diaBP', 'BMI', 'heartRate', 'glucose',\n",
       "       'POSSIBILITY OF CVD'],\n",
       "      dtype='object')"
      ]
     },
     "execution_count": 10,
     "metadata": {},
     "output_type": "execute_result"
    }
   ],
   "source": [
    "df.columns"
   ]
  },
  {
   "cell_type": "code",
   "execution_count": null,
   "metadata": {},
   "outputs": [],
   "source": []
  },
  {
   "cell_type": "markdown",
   "metadata": {},
   "source": [
    "# Decison Tree Implementation"
   ]
  },
  {
   "cell_type": "markdown",
   "metadata": {},
   "source": [
    "### step 0: preparing data"
   ]
  },
  {
   "cell_type": "code",
   "execution_count": 11,
   "metadata": {},
   "outputs": [],
   "source": [
    "# random shuffling of data\n",
    "#df=df.sample(frac=1)\n",
    "#display(df)\n",
    "\n",
    "#not doing this step, as data is already shuffled, as per dataset discription"
   ]
  },
  {
   "cell_type": "code",
   "execution_count": 12,
   "metadata": {},
   "outputs": [
    {
     "name": "stdout",
     "output_type": "stream",
     "text": [
      "[[ 39.   0.   0. ...  80.  77.   0.]\n",
      " [ 46.   0.   0. ...  95.  76.   0.]\n",
      " [ 48.  20.   0. ...  75.  70.   0.]\n",
      " ...\n",
      " [ 48.  20.   0. ...  84.  86.   0.]\n",
      " [ 44.  15.   0. ...  86.  82.   0.]\n",
      " [ 52.   0.   0. ...  80. 107.   0.]]\n",
      "(4238, 12)\n",
      "<class 'numpy.ndarray'>\n"
     ]
    }
   ],
   "source": [
    "# taking data , from the DataFrame object, to numpy object\n",
    "data=df.values\n",
    "print(data)\n",
    "print(data.shape)\n",
    "print(type(data))"
   ]
  },
  {
   "cell_type": "code",
   "execution_count": 13,
   "metadata": {},
   "outputs": [
    {
     "name": "stdout",
     "output_type": "stream",
     "text": [
      "[[ 39.     0.     0.   ...  26.97  80.    77.  ]\n",
      " [ 46.     0.     0.   ...  28.73  95.    76.  ]\n",
      " [ 48.    20.     0.   ...  25.34  75.    70.  ]\n",
      " ...\n",
      " [ 48.    20.     0.   ...  22.    84.    86.  ]\n",
      " [ 44.    15.     0.   ...  19.16  86.    82.  ]\n",
      " [ 52.     0.     0.   ...  21.47  80.   107.  ]]\n",
      "(4238, 11)\n",
      "[0. 0. 0. ... 0. 0. 0.]\n",
      "(4238,)\n"
     ]
    }
   ],
   "source": [
    "#separating target label, from rest of the attributes\n",
    "X=data[:,:-1]  \n",
    "Y=data[:,-1]  # target label\n",
    "print(X)\n",
    "print(X.shape)\n",
    "print(Y)\n",
    "print(Y.shape)"
   ]
  },
  {
   "cell_type": "markdown",
   "metadata": {},
   "source": [
    "### step 1: spliting data for training and testing"
   ]
  },
  {
   "cell_type": "code",
   "execution_count": 14,
   "metadata": {},
   "outputs": [
    {
     "name": "stdout",
     "output_type": "stream",
     "text": [
      "2966.6\n",
      "split length: 2966\n",
      "\n",
      "X_train: (2966, 11)\n",
      "X_test: (1272, 11)\n",
      "Y_train: (2966,)\n",
      "Y_test: (1272,)\n"
     ]
    }
   ],
   "source": [
    "#performing split , to train,test data\n",
    "split=0.7*X.shape[0]\n",
    "print(split)\n",
    "split=int(split)\n",
    "print(\"split length:\",split)\n",
    "print()\n",
    "\n",
    "X_train= X[:split,:]\n",
    "Y_train=Y[:split]\n",
    "X_test=X[split:,:]\n",
    "Y_test=Y[split:]\n",
    "\n",
    "print(\"X_train:\",X_train.shape)\n",
    "print(\"X_test:\",X_test.shape)\n",
    "print(\"Y_train:\",Y_train.shape)\n",
    "print(\"Y_test:\",Y_test.shape)"
   ]
  },
  {
   "cell_type": "code",
   "execution_count": 52,
   "metadata": {},
   "outputs": [
    {
     "data": {
      "text/html": [
       "<div>\n",
       "<style scoped>\n",
       "    .dataframe tbody tr th:only-of-type {\n",
       "        vertical-align: middle;\n",
       "    }\n",
       "\n",
       "    .dataframe tbody tr th {\n",
       "        vertical-align: top;\n",
       "    }\n",
       "\n",
       "    .dataframe thead th {\n",
       "        text-align: right;\n",
       "    }\n",
       "</style>\n",
       "<table border=\"1\" class=\"dataframe\">\n",
       "  <thead>\n",
       "    <tr style=\"text-align: right;\">\n",
       "      <th></th>\n",
       "      <th>age</th>\n",
       "      <th>cigsPerDay</th>\n",
       "      <th>BPMeds</th>\n",
       "      <th>prevalentStroke</th>\n",
       "      <th>prevalentHyp</th>\n",
       "      <th>totChol</th>\n",
       "      <th>sysBP</th>\n",
       "      <th>diaBP</th>\n",
       "      <th>BMI</th>\n",
       "      <th>heartRate</th>\n",
       "      <th>glucose</th>\n",
       "    </tr>\n",
       "  </thead>\n",
       "  <tbody>\n",
       "    <tr>\n",
       "      <th>0</th>\n",
       "      <td>39.0</td>\n",
       "      <td>0.0</td>\n",
       "      <td>0.0</td>\n",
       "      <td>0.0</td>\n",
       "      <td>0.0</td>\n",
       "      <td>195.0</td>\n",
       "      <td>106.0</td>\n",
       "      <td>70.0</td>\n",
       "      <td>26.97</td>\n",
       "      <td>80.0</td>\n",
       "      <td>77.0</td>\n",
       "    </tr>\n",
       "    <tr>\n",
       "      <th>1</th>\n",
       "      <td>46.0</td>\n",
       "      <td>0.0</td>\n",
       "      <td>0.0</td>\n",
       "      <td>0.0</td>\n",
       "      <td>0.0</td>\n",
       "      <td>250.0</td>\n",
       "      <td>121.0</td>\n",
       "      <td>81.0</td>\n",
       "      <td>28.73</td>\n",
       "      <td>95.0</td>\n",
       "      <td>76.0</td>\n",
       "    </tr>\n",
       "    <tr>\n",
       "      <th>2</th>\n",
       "      <td>48.0</td>\n",
       "      <td>20.0</td>\n",
       "      <td>0.0</td>\n",
       "      <td>0.0</td>\n",
       "      <td>0.0</td>\n",
       "      <td>245.0</td>\n",
       "      <td>127.5</td>\n",
       "      <td>80.0</td>\n",
       "      <td>25.34</td>\n",
       "      <td>75.0</td>\n",
       "      <td>70.0</td>\n",
       "    </tr>\n",
       "    <tr>\n",
       "      <th>3</th>\n",
       "      <td>61.0</td>\n",
       "      <td>30.0</td>\n",
       "      <td>0.0</td>\n",
       "      <td>0.0</td>\n",
       "      <td>1.0</td>\n",
       "      <td>225.0</td>\n",
       "      <td>150.0</td>\n",
       "      <td>95.0</td>\n",
       "      <td>28.58</td>\n",
       "      <td>65.0</td>\n",
       "      <td>103.0</td>\n",
       "    </tr>\n",
       "    <tr>\n",
       "      <th>4</th>\n",
       "      <td>46.0</td>\n",
       "      <td>23.0</td>\n",
       "      <td>0.0</td>\n",
       "      <td>0.0</td>\n",
       "      <td>0.0</td>\n",
       "      <td>285.0</td>\n",
       "      <td>130.0</td>\n",
       "      <td>84.0</td>\n",
       "      <td>23.10</td>\n",
       "      <td>85.0</td>\n",
       "      <td>85.0</td>\n",
       "    </tr>\n",
       "    <tr>\n",
       "      <th>...</th>\n",
       "      <td>...</td>\n",
       "      <td>...</td>\n",
       "      <td>...</td>\n",
       "      <td>...</td>\n",
       "      <td>...</td>\n",
       "      <td>...</td>\n",
       "      <td>...</td>\n",
       "      <td>...</td>\n",
       "      <td>...</td>\n",
       "      <td>...</td>\n",
       "      <td>...</td>\n",
       "    </tr>\n",
       "    <tr>\n",
       "      <th>2961</th>\n",
       "      <td>52.0</td>\n",
       "      <td>0.0</td>\n",
       "      <td>0.0</td>\n",
       "      <td>0.0</td>\n",
       "      <td>1.0</td>\n",
       "      <td>258.0</td>\n",
       "      <td>177.0</td>\n",
       "      <td>111.0</td>\n",
       "      <td>30.38</td>\n",
       "      <td>80.0</td>\n",
       "      <td>270.0</td>\n",
       "    </tr>\n",
       "    <tr>\n",
       "      <th>2962</th>\n",
       "      <td>51.0</td>\n",
       "      <td>20.0</td>\n",
       "      <td>0.0</td>\n",
       "      <td>0.0</td>\n",
       "      <td>0.0</td>\n",
       "      <td>274.0</td>\n",
       "      <td>108.0</td>\n",
       "      <td>75.0</td>\n",
       "      <td>23.60</td>\n",
       "      <td>70.0</td>\n",
       "      <td>68.0</td>\n",
       "    </tr>\n",
       "    <tr>\n",
       "      <th>2963</th>\n",
       "      <td>49.0</td>\n",
       "      <td>0.0</td>\n",
       "      <td>0.0</td>\n",
       "      <td>0.0</td>\n",
       "      <td>0.0</td>\n",
       "      <td>228.0</td>\n",
       "      <td>124.0</td>\n",
       "      <td>72.0</td>\n",
       "      <td>21.18</td>\n",
       "      <td>74.0</td>\n",
       "      <td>88.0</td>\n",
       "    </tr>\n",
       "    <tr>\n",
       "      <th>2964</th>\n",
       "      <td>68.0</td>\n",
       "      <td>15.0</td>\n",
       "      <td>0.0</td>\n",
       "      <td>0.0</td>\n",
       "      <td>0.0</td>\n",
       "      <td>193.0</td>\n",
       "      <td>145.0</td>\n",
       "      <td>67.0</td>\n",
       "      <td>23.13</td>\n",
       "      <td>75.0</td>\n",
       "      <td>72.0</td>\n",
       "    </tr>\n",
       "    <tr>\n",
       "      <th>2965</th>\n",
       "      <td>39.0</td>\n",
       "      <td>20.0</td>\n",
       "      <td>0.0</td>\n",
       "      <td>0.0</td>\n",
       "      <td>0.0</td>\n",
       "      <td>202.0</td>\n",
       "      <td>108.0</td>\n",
       "      <td>74.0</td>\n",
       "      <td>25.51</td>\n",
       "      <td>64.0</td>\n",
       "      <td>104.0</td>\n",
       "    </tr>\n",
       "  </tbody>\n",
       "</table>\n",
       "<p>2966 rows × 11 columns</p>\n",
       "</div>"
      ],
      "text/plain": [
       "       age  cigsPerDay  BPMeds  prevalentStroke  prevalentHyp  totChol  sysBP  \\\n",
       "0     39.0         0.0     0.0              0.0           0.0    195.0  106.0   \n",
       "1     46.0         0.0     0.0              0.0           0.0    250.0  121.0   \n",
       "2     48.0        20.0     0.0              0.0           0.0    245.0  127.5   \n",
       "3     61.0        30.0     0.0              0.0           1.0    225.0  150.0   \n",
       "4     46.0        23.0     0.0              0.0           0.0    285.0  130.0   \n",
       "...    ...         ...     ...              ...           ...      ...    ...   \n",
       "2961  52.0         0.0     0.0              0.0           1.0    258.0  177.0   \n",
       "2962  51.0        20.0     0.0              0.0           0.0    274.0  108.0   \n",
       "2963  49.0         0.0     0.0              0.0           0.0    228.0  124.0   \n",
       "2964  68.0        15.0     0.0              0.0           0.0    193.0  145.0   \n",
       "2965  39.0        20.0     0.0              0.0           0.0    202.0  108.0   \n",
       "\n",
       "      diaBP    BMI  heartRate  glucose  \n",
       "0      70.0  26.97       80.0     77.0  \n",
       "1      81.0  28.73       95.0     76.0  \n",
       "2      80.0  25.34       75.0     70.0  \n",
       "3      95.0  28.58       65.0    103.0  \n",
       "4      84.0  23.10       85.0     85.0  \n",
       "...     ...    ...        ...      ...  \n",
       "2961  111.0  30.38       80.0    270.0  \n",
       "2962   75.0  23.60       70.0     68.0  \n",
       "2963   72.0  21.18       74.0     88.0  \n",
       "2964   67.0  23.13       75.0     72.0  \n",
       "2965   74.0  25.51       64.0    104.0  \n",
       "\n",
       "[2966 rows x 11 columns]"
      ]
     },
     "metadata": {},
     "output_type": "display_data"
    },
    {
     "name": "stdout",
     "output_type": "stream",
     "text": [
      "(2966, 11)\n"
     ]
    },
    {
     "data": {
      "text/html": [
       "<div>\n",
       "<style scoped>\n",
       "    .dataframe tbody tr th:only-of-type {\n",
       "        vertical-align: middle;\n",
       "    }\n",
       "\n",
       "    .dataframe tbody tr th {\n",
       "        vertical-align: top;\n",
       "    }\n",
       "\n",
       "    .dataframe thead th {\n",
       "        text-align: right;\n",
       "    }\n",
       "</style>\n",
       "<table border=\"1\" class=\"dataframe\">\n",
       "  <thead>\n",
       "    <tr style=\"text-align: right;\">\n",
       "      <th></th>\n",
       "      <th>POSSIBILITY OF CVD</th>\n",
       "    </tr>\n",
       "  </thead>\n",
       "  <tbody>\n",
       "    <tr>\n",
       "      <th>0</th>\n",
       "      <td>0.0</td>\n",
       "    </tr>\n",
       "    <tr>\n",
       "      <th>1</th>\n",
       "      <td>0.0</td>\n",
       "    </tr>\n",
       "    <tr>\n",
       "      <th>2</th>\n",
       "      <td>0.0</td>\n",
       "    </tr>\n",
       "    <tr>\n",
       "      <th>3</th>\n",
       "      <td>1.0</td>\n",
       "    </tr>\n",
       "    <tr>\n",
       "      <th>4</th>\n",
       "      <td>0.0</td>\n",
       "    </tr>\n",
       "    <tr>\n",
       "      <th>...</th>\n",
       "      <td>...</td>\n",
       "    </tr>\n",
       "    <tr>\n",
       "      <th>2961</th>\n",
       "      <td>1.0</td>\n",
       "    </tr>\n",
       "    <tr>\n",
       "      <th>2962</th>\n",
       "      <td>0.0</td>\n",
       "    </tr>\n",
       "    <tr>\n",
       "      <th>2963</th>\n",
       "      <td>0.0</td>\n",
       "    </tr>\n",
       "    <tr>\n",
       "      <th>2964</th>\n",
       "      <td>1.0</td>\n",
       "    </tr>\n",
       "    <tr>\n",
       "      <th>2965</th>\n",
       "      <td>0.0</td>\n",
       "    </tr>\n",
       "  </tbody>\n",
       "</table>\n",
       "<p>2966 rows × 1 columns</p>\n",
       "</div>"
      ],
      "text/plain": [
       "      POSSIBILITY OF CVD\n",
       "0                    0.0\n",
       "1                    0.0\n",
       "2                    0.0\n",
       "3                    1.0\n",
       "4                    0.0\n",
       "...                  ...\n",
       "2961                 1.0\n",
       "2962                 0.0\n",
       "2963                 0.0\n",
       "2964                 1.0\n",
       "2965                 0.0\n",
       "\n",
       "[2966 rows x 1 columns]"
      ]
     },
     "metadata": {},
     "output_type": "display_data"
    },
    {
     "name": "stdout",
     "output_type": "stream",
     "text": [
      "(2966, 1)\n",
      "<class 'pandas.core.frame.DataFrame'>\n"
     ]
    },
    {
     "data": {
      "text/html": [
       "<div>\n",
       "<style scoped>\n",
       "    .dataframe tbody tr th:only-of-type {\n",
       "        vertical-align: middle;\n",
       "    }\n",
       "\n",
       "    .dataframe tbody tr th {\n",
       "        vertical-align: top;\n",
       "    }\n",
       "\n",
       "    .dataframe thead th {\n",
       "        text-align: right;\n",
       "    }\n",
       "</style>\n",
       "<table border=\"1\" class=\"dataframe\">\n",
       "  <thead>\n",
       "    <tr style=\"text-align: right;\">\n",
       "      <th></th>\n",
       "      <th>age</th>\n",
       "      <th>cigsPerDay</th>\n",
       "      <th>BPMeds</th>\n",
       "      <th>prevalentStroke</th>\n",
       "      <th>prevalentHyp</th>\n",
       "      <th>totChol</th>\n",
       "      <th>sysBP</th>\n",
       "      <th>diaBP</th>\n",
       "      <th>BMI</th>\n",
       "      <th>heartRate</th>\n",
       "      <th>glucose</th>\n",
       "      <th>POSSIBILITY OF CVD</th>\n",
       "    </tr>\n",
       "  </thead>\n",
       "  <tbody>\n",
       "    <tr>\n",
       "      <th>0</th>\n",
       "      <td>39</td>\n",
       "      <td>0.0</td>\n",
       "      <td>0.0</td>\n",
       "      <td>0</td>\n",
       "      <td>0</td>\n",
       "      <td>195.0</td>\n",
       "      <td>106.0</td>\n",
       "      <td>70.0</td>\n",
       "      <td>26.97</td>\n",
       "      <td>80.0</td>\n",
       "      <td>77.0</td>\n",
       "      <td>0</td>\n",
       "    </tr>\n",
       "    <tr>\n",
       "      <th>1</th>\n",
       "      <td>46</td>\n",
       "      <td>0.0</td>\n",
       "      <td>0.0</td>\n",
       "      <td>0</td>\n",
       "      <td>0</td>\n",
       "      <td>250.0</td>\n",
       "      <td>121.0</td>\n",
       "      <td>81.0</td>\n",
       "      <td>28.73</td>\n",
       "      <td>95.0</td>\n",
       "      <td>76.0</td>\n",
       "      <td>0</td>\n",
       "    </tr>\n",
       "    <tr>\n",
       "      <th>2</th>\n",
       "      <td>48</td>\n",
       "      <td>20.0</td>\n",
       "      <td>0.0</td>\n",
       "      <td>0</td>\n",
       "      <td>0</td>\n",
       "      <td>245.0</td>\n",
       "      <td>127.5</td>\n",
       "      <td>80.0</td>\n",
       "      <td>25.34</td>\n",
       "      <td>75.0</td>\n",
       "      <td>70.0</td>\n",
       "      <td>0</td>\n",
       "    </tr>\n",
       "    <tr>\n",
       "      <th>3</th>\n",
       "      <td>61</td>\n",
       "      <td>30.0</td>\n",
       "      <td>0.0</td>\n",
       "      <td>0</td>\n",
       "      <td>1</td>\n",
       "      <td>225.0</td>\n",
       "      <td>150.0</td>\n",
       "      <td>95.0</td>\n",
       "      <td>28.58</td>\n",
       "      <td>65.0</td>\n",
       "      <td>103.0</td>\n",
       "      <td>1</td>\n",
       "    </tr>\n",
       "    <tr>\n",
       "      <th>4</th>\n",
       "      <td>46</td>\n",
       "      <td>23.0</td>\n",
       "      <td>0.0</td>\n",
       "      <td>0</td>\n",
       "      <td>0</td>\n",
       "      <td>285.0</td>\n",
       "      <td>130.0</td>\n",
       "      <td>84.0</td>\n",
       "      <td>23.10</td>\n",
       "      <td>85.0</td>\n",
       "      <td>85.0</td>\n",
       "      <td>0</td>\n",
       "    </tr>\n",
       "    <tr>\n",
       "      <th>...</th>\n",
       "      <td>...</td>\n",
       "      <td>...</td>\n",
       "      <td>...</td>\n",
       "      <td>...</td>\n",
       "      <td>...</td>\n",
       "      <td>...</td>\n",
       "      <td>...</td>\n",
       "      <td>...</td>\n",
       "      <td>...</td>\n",
       "      <td>...</td>\n",
       "      <td>...</td>\n",
       "      <td>...</td>\n",
       "    </tr>\n",
       "    <tr>\n",
       "      <th>2961</th>\n",
       "      <td>52</td>\n",
       "      <td>0.0</td>\n",
       "      <td>0.0</td>\n",
       "      <td>0</td>\n",
       "      <td>1</td>\n",
       "      <td>258.0</td>\n",
       "      <td>177.0</td>\n",
       "      <td>111.0</td>\n",
       "      <td>30.38</td>\n",
       "      <td>80.0</td>\n",
       "      <td>270.0</td>\n",
       "      <td>1</td>\n",
       "    </tr>\n",
       "    <tr>\n",
       "      <th>2962</th>\n",
       "      <td>51</td>\n",
       "      <td>20.0</td>\n",
       "      <td>0.0</td>\n",
       "      <td>0</td>\n",
       "      <td>0</td>\n",
       "      <td>274.0</td>\n",
       "      <td>108.0</td>\n",
       "      <td>75.0</td>\n",
       "      <td>23.60</td>\n",
       "      <td>70.0</td>\n",
       "      <td>68.0</td>\n",
       "      <td>0</td>\n",
       "    </tr>\n",
       "    <tr>\n",
       "      <th>2963</th>\n",
       "      <td>49</td>\n",
       "      <td>0.0</td>\n",
       "      <td>0.0</td>\n",
       "      <td>0</td>\n",
       "      <td>0</td>\n",
       "      <td>228.0</td>\n",
       "      <td>124.0</td>\n",
       "      <td>72.0</td>\n",
       "      <td>21.18</td>\n",
       "      <td>74.0</td>\n",
       "      <td>88.0</td>\n",
       "      <td>0</td>\n",
       "    </tr>\n",
       "    <tr>\n",
       "      <th>2964</th>\n",
       "      <td>68</td>\n",
       "      <td>15.0</td>\n",
       "      <td>0.0</td>\n",
       "      <td>0</td>\n",
       "      <td>0</td>\n",
       "      <td>193.0</td>\n",
       "      <td>145.0</td>\n",
       "      <td>67.0</td>\n",
       "      <td>23.13</td>\n",
       "      <td>75.0</td>\n",
       "      <td>72.0</td>\n",
       "      <td>1</td>\n",
       "    </tr>\n",
       "    <tr>\n",
       "      <th>2965</th>\n",
       "      <td>39</td>\n",
       "      <td>20.0</td>\n",
       "      <td>0.0</td>\n",
       "      <td>0</td>\n",
       "      <td>0</td>\n",
       "      <td>202.0</td>\n",
       "      <td>108.0</td>\n",
       "      <td>74.0</td>\n",
       "      <td>25.51</td>\n",
       "      <td>64.0</td>\n",
       "      <td>104.0</td>\n",
       "      <td>0</td>\n",
       "    </tr>\n",
       "  </tbody>\n",
       "</table>\n",
       "<p>2966 rows × 12 columns</p>\n",
       "</div>"
      ],
      "text/plain": [
       "      age  cigsPerDay  BPMeds  prevalentStroke  prevalentHyp  totChol  sysBP  \\\n",
       "0      39         0.0     0.0                0             0    195.0  106.0   \n",
       "1      46         0.0     0.0                0             0    250.0  121.0   \n",
       "2      48        20.0     0.0                0             0    245.0  127.5   \n",
       "3      61        30.0     0.0                0             1    225.0  150.0   \n",
       "4      46        23.0     0.0                0             0    285.0  130.0   \n",
       "...   ...         ...     ...              ...           ...      ...    ...   \n",
       "2961   52         0.0     0.0                0             1    258.0  177.0   \n",
       "2962   51        20.0     0.0                0             0    274.0  108.0   \n",
       "2963   49         0.0     0.0                0             0    228.0  124.0   \n",
       "2964   68        15.0     0.0                0             0    193.0  145.0   \n",
       "2965   39        20.0     0.0                0             0    202.0  108.0   \n",
       "\n",
       "      diaBP    BMI  heartRate  glucose  POSSIBILITY OF CVD  \n",
       "0      70.0  26.97       80.0     77.0                   0  \n",
       "1      81.0  28.73       95.0     76.0                   0  \n",
       "2      80.0  25.34       75.0     70.0                   0  \n",
       "3      95.0  28.58       65.0    103.0                   1  \n",
       "4      84.0  23.10       85.0     85.0                   0  \n",
       "...     ...    ...        ...      ...                 ...  \n",
       "2961  111.0  30.38       80.0    270.0                   1  \n",
       "2962   75.0  23.60       70.0     68.0                   0  \n",
       "2963   72.0  21.18       74.0     88.0                   0  \n",
       "2964   67.0  23.13       75.0     72.0                   1  \n",
       "2965   74.0  25.51       64.0    104.0                   0  \n",
       "\n",
       "[2966 rows x 12 columns]"
      ]
     },
     "metadata": {},
     "output_type": "display_data"
    },
    {
     "name": "stdout",
     "output_type": "stream",
     "text": [
      "(2966, 12)\n"
     ]
    },
    {
     "data": {
      "text/html": [
       "<div>\n",
       "<style scoped>\n",
       "    .dataframe tbody tr th:only-of-type {\n",
       "        vertical-align: middle;\n",
       "    }\n",
       "\n",
       "    .dataframe tbody tr th {\n",
       "        vertical-align: top;\n",
       "    }\n",
       "\n",
       "    .dataframe thead th {\n",
       "        text-align: right;\n",
       "    }\n",
       "</style>\n",
       "<table border=\"1\" class=\"dataframe\">\n",
       "  <thead>\n",
       "    <tr style=\"text-align: right;\">\n",
       "      <th></th>\n",
       "      <th>age</th>\n",
       "      <th>cigsPerDay</th>\n",
       "      <th>BPMeds</th>\n",
       "      <th>prevalentStroke</th>\n",
       "      <th>prevalentHyp</th>\n",
       "      <th>totChol</th>\n",
       "      <th>sysBP</th>\n",
       "      <th>diaBP</th>\n",
       "      <th>BMI</th>\n",
       "      <th>heartRate</th>\n",
       "      <th>glucose</th>\n",
       "      <th>POSSIBILITY OF CVD</th>\n",
       "    </tr>\n",
       "  </thead>\n",
       "  <tbody>\n",
       "    <tr>\n",
       "      <th>0</th>\n",
       "      <td>54</td>\n",
       "      <td>0.0</td>\n",
       "      <td>0.0</td>\n",
       "      <td>0</td>\n",
       "      <td>1</td>\n",
       "      <td>248.0</td>\n",
       "      <td>155.0</td>\n",
       "      <td>92.5</td>\n",
       "      <td>29.86</td>\n",
       "      <td>85.0</td>\n",
       "      <td>66.0</td>\n",
       "      <td>0</td>\n",
       "    </tr>\n",
       "    <tr>\n",
       "      <th>1</th>\n",
       "      <td>44</td>\n",
       "      <td>3.0</td>\n",
       "      <td>0.0</td>\n",
       "      <td>0</td>\n",
       "      <td>0</td>\n",
       "      <td>244.0</td>\n",
       "      <td>105.0</td>\n",
       "      <td>60.0</td>\n",
       "      <td>23.24</td>\n",
       "      <td>76.0</td>\n",
       "      <td>82.0</td>\n",
       "      <td>0</td>\n",
       "    </tr>\n",
       "    <tr>\n",
       "      <th>2</th>\n",
       "      <td>46</td>\n",
       "      <td>43.0</td>\n",
       "      <td>0.0</td>\n",
       "      <td>0</td>\n",
       "      <td>0</td>\n",
       "      <td>237.0</td>\n",
       "      <td>105.0</td>\n",
       "      <td>72.5</td>\n",
       "      <td>33.49</td>\n",
       "      <td>67.0</td>\n",
       "      <td>79.0</td>\n",
       "      <td>0</td>\n",
       "    </tr>\n",
       "    <tr>\n",
       "      <th>3</th>\n",
       "      <td>49</td>\n",
       "      <td>20.0</td>\n",
       "      <td>1.0</td>\n",
       "      <td>0</td>\n",
       "      <td>1</td>\n",
       "      <td>262.0</td>\n",
       "      <td>147.5</td>\n",
       "      <td>97.5</td>\n",
       "      <td>24.96</td>\n",
       "      <td>60.0</td>\n",
       "      <td>67.0</td>\n",
       "      <td>0</td>\n",
       "    </tr>\n",
       "    <tr>\n",
       "      <th>4</th>\n",
       "      <td>46</td>\n",
       "      <td>0.0</td>\n",
       "      <td>0.0</td>\n",
       "      <td>0</td>\n",
       "      <td>0</td>\n",
       "      <td>229.0</td>\n",
       "      <td>127.5</td>\n",
       "      <td>80.0</td>\n",
       "      <td>22.34</td>\n",
       "      <td>84.0</td>\n",
       "      <td>77.0</td>\n",
       "      <td>0</td>\n",
       "    </tr>\n",
       "    <tr>\n",
       "      <th>...</th>\n",
       "      <td>...</td>\n",
       "      <td>...</td>\n",
       "      <td>...</td>\n",
       "      <td>...</td>\n",
       "      <td>...</td>\n",
       "      <td>...</td>\n",
       "      <td>...</td>\n",
       "      <td>...</td>\n",
       "      <td>...</td>\n",
       "      <td>...</td>\n",
       "      <td>...</td>\n",
       "      <td>...</td>\n",
       "    </tr>\n",
       "    <tr>\n",
       "      <th>1267</th>\n",
       "      <td>50</td>\n",
       "      <td>1.0</td>\n",
       "      <td>0.0</td>\n",
       "      <td>0</td>\n",
       "      <td>1</td>\n",
       "      <td>313.0</td>\n",
       "      <td>179.0</td>\n",
       "      <td>92.0</td>\n",
       "      <td>25.97</td>\n",
       "      <td>66.0</td>\n",
       "      <td>86.0</td>\n",
       "      <td>1</td>\n",
       "    </tr>\n",
       "    <tr>\n",
       "      <th>1268</th>\n",
       "      <td>51</td>\n",
       "      <td>43.0</td>\n",
       "      <td>0.0</td>\n",
       "      <td>0</td>\n",
       "      <td>0</td>\n",
       "      <td>207.0</td>\n",
       "      <td>126.5</td>\n",
       "      <td>80.0</td>\n",
       "      <td>19.71</td>\n",
       "      <td>65.0</td>\n",
       "      <td>68.0</td>\n",
       "      <td>0</td>\n",
       "    </tr>\n",
       "    <tr>\n",
       "      <th>1269</th>\n",
       "      <td>48</td>\n",
       "      <td>20.0</td>\n",
       "      <td>0.0</td>\n",
       "      <td>0</td>\n",
       "      <td>0</td>\n",
       "      <td>248.0</td>\n",
       "      <td>131.0</td>\n",
       "      <td>72.0</td>\n",
       "      <td>22.00</td>\n",
       "      <td>84.0</td>\n",
       "      <td>86.0</td>\n",
       "      <td>0</td>\n",
       "    </tr>\n",
       "    <tr>\n",
       "      <th>1270</th>\n",
       "      <td>44</td>\n",
       "      <td>15.0</td>\n",
       "      <td>0.0</td>\n",
       "      <td>0</td>\n",
       "      <td>0</td>\n",
       "      <td>210.0</td>\n",
       "      <td>126.5</td>\n",
       "      <td>87.0</td>\n",
       "      <td>19.16</td>\n",
       "      <td>86.0</td>\n",
       "      <td>82.0</td>\n",
       "      <td>0</td>\n",
       "    </tr>\n",
       "    <tr>\n",
       "      <th>1271</th>\n",
       "      <td>52</td>\n",
       "      <td>0.0</td>\n",
       "      <td>0.0</td>\n",
       "      <td>0</td>\n",
       "      <td>0</td>\n",
       "      <td>269.0</td>\n",
       "      <td>133.5</td>\n",
       "      <td>83.0</td>\n",
       "      <td>21.47</td>\n",
       "      <td>80.0</td>\n",
       "      <td>107.0</td>\n",
       "      <td>0</td>\n",
       "    </tr>\n",
       "  </tbody>\n",
       "</table>\n",
       "<p>1272 rows × 12 columns</p>\n",
       "</div>"
      ],
      "text/plain": [
       "      age  cigsPerDay  BPMeds  prevalentStroke  prevalentHyp  totChol  sysBP  \\\n",
       "0      54         0.0     0.0                0             1    248.0  155.0   \n",
       "1      44         3.0     0.0                0             0    244.0  105.0   \n",
       "2      46        43.0     0.0                0             0    237.0  105.0   \n",
       "3      49        20.0     1.0                0             1    262.0  147.5   \n",
       "4      46         0.0     0.0                0             0    229.0  127.5   \n",
       "...   ...         ...     ...              ...           ...      ...    ...   \n",
       "1267   50         1.0     0.0                0             1    313.0  179.0   \n",
       "1268   51        43.0     0.0                0             0    207.0  126.5   \n",
       "1269   48        20.0     0.0                0             0    248.0  131.0   \n",
       "1270   44        15.0     0.0                0             0    210.0  126.5   \n",
       "1271   52         0.0     0.0                0             0    269.0  133.5   \n",
       "\n",
       "      diaBP    BMI  heartRate  glucose  POSSIBILITY OF CVD  \n",
       "0      92.5  29.86       85.0     66.0                   0  \n",
       "1      60.0  23.24       76.0     82.0                   0  \n",
       "2      72.5  33.49       67.0     79.0                   0  \n",
       "3      97.5  24.96       60.0     67.0                   0  \n",
       "4      80.0  22.34       84.0     77.0                   0  \n",
       "...     ...    ...        ...      ...                 ...  \n",
       "1267   92.0  25.97       66.0     86.0                   1  \n",
       "1268   80.0  19.71       65.0     68.0                   0  \n",
       "1269   72.0  22.00       84.0     86.0                   0  \n",
       "1270   87.0  19.16       86.0     82.0                   0  \n",
       "1271   83.0  21.47       80.0    107.0                   0  \n",
       "\n",
       "[1272 rows x 12 columns]"
      ]
     },
     "metadata": {},
     "output_type": "display_data"
    },
    {
     "name": "stdout",
     "output_type": "stream",
     "text": [
      "(1272, 12)\n"
     ]
    }
   ],
   "source": [
    "#separating target label, from rest of the attributes\n",
    "# we will use only dataframe objects, in all our calculations, not np arrays\n",
    "df_x_train=pd.DataFrame(data=X_train,columns=['age', 'cigsPerDay', 'BPMeds', 'prevalentStroke', 'prevalentHyp',\n",
    "       'totChol', 'sysBP', 'diaBP', 'BMI', 'heartRate', 'glucose'])\n",
    "df_y_train=pd.DataFrame(data=Y_train,columns=[\"POSSIBILITY OF CVD\"])  # target label\n",
    "#now creating a data frame for training, testing\n",
    "df_xy_train=pd.DataFrame(df[:split])\n",
    "df_xy_test=pd.DataFrame(df[split:])\n",
    "#make the index of df_xy_test to start from 0\n",
    "df_xy_test=df_xy_test.reset_index(drop=True) \n",
    "\n",
    "display(df_x_train)\n",
    "print(df_x_train.shape)\n",
    "display(df_y_train)\n",
    "print(df_y_train.shape)\n",
    "print(type(df_x_train))\n",
    "display(df_xy_train)\n",
    "print(df_xy_train.shape)\n",
    "display(df_xy_test)\n",
    "print(df_xy_test.shape)"
   ]
  },
  {
   "cell_type": "code",
   "execution_count": null,
   "metadata": {},
   "outputs": [],
   "source": []
  },
  {
   "cell_type": "markdown",
   "metadata": {},
   "source": [
    "### step 2: Decision Tree implementation"
   ]
  },
  {
   "cell_type": "code",
   "execution_count": 40,
   "metadata": {},
   "outputs": [],
   "source": [
    "#define entropy of a column\n",
    "# entropy is a measure of \"randomness\"\n",
    "def entropy(columnn):\n",
    "    classes,freq=np.unique(columnn,return_counts=True)\n",
    "    N=float(columnn.shape[0])\n",
    "    \n",
    "    ent=0.0\n",
    "    for i in freq:\n",
    "        p=i/N\n",
    "        ent+=(-1.0*p*np.log2(p))\n",
    "    \n",
    "    return ent\n",
    "    "
   ]
  },
  {
   "cell_type": "code",
   "execution_count": 41,
   "metadata": {},
   "outputs": [
    {
     "name": "stdout",
     "output_type": "stream",
     "text": [
      "(6,)\n",
      "(array([0, 1]), array([3, 3]))\n",
      "entropy = 1.0\n",
      "entropy is max(entropy=1) when probability=0.5 for each class in a binary data\n"
     ]
    }
   ],
   "source": [
    "# understanding how the func works with a example\n",
    "eg=np.array([1,1,1,0,0,0])\n",
    "print(eg.shape)\n",
    "print(np.unique(eg,return_counts=True))\n",
    "print(\"entropy =\",entropy(eg))\n",
    "print(\"entropy is max(entropy=1) when probability=0.5 for each class in a binary data\")"
   ]
  },
  {
   "cell_type": "code",
   "execution_count": 42,
   "metadata": {},
   "outputs": [],
   "source": [
    "def divide_data(x_data,fkey,fval):\n",
    "    \"\"\"\n",
    "    x_data: undivided data\n",
    "    fkey: attribute ,whose values are to be considered for division\n",
    "    fval: all rows, whose fkey>fval, copy to right node, otherwise left node\n",
    "    \"\"\"\n",
    "    #to store all rows, whose value at fkey<=fval\n",
    "    x_left=pd.DataFrame(data=[],columns=x_data.columns)\n",
    "    #to store all rows, whose value at fkey>fval\n",
    "    x_right=pd.DataFrame(data=[],columns=x_data.columns)\n",
    "    \n",
    "    for i in range(x_data.shape[0]):\n",
    "        val=x_data[fkey].loc[i]\n",
    "        if(val>fval):\n",
    "            x_right=x_right.append(x_data.loc[i])\n",
    "        else:\n",
    "            x_left=x_left.append(x_data.loc[i])\n",
    "    return x_left,x_right\n",
    "            "
   ]
  },
  {
   "cell_type": "code",
   "execution_count": 43,
   "metadata": {},
   "outputs": [
    {
     "name": "stdout",
     "output_type": "stream",
     "text": [
      "undivided data=\n",
      "\n"
     ]
    },
    {
     "data": {
      "text/html": [
       "<div>\n",
       "<style scoped>\n",
       "    .dataframe tbody tr th:only-of-type {\n",
       "        vertical-align: middle;\n",
       "    }\n",
       "\n",
       "    .dataframe tbody tr th {\n",
       "        vertical-align: top;\n",
       "    }\n",
       "\n",
       "    .dataframe thead th {\n",
       "        text-align: right;\n",
       "    }\n",
       "</style>\n",
       "<table border=\"1\" class=\"dataframe\">\n",
       "  <thead>\n",
       "    <tr style=\"text-align: right;\">\n",
       "      <th></th>\n",
       "      <th>age</th>\n",
       "      <th>cigsPerDay</th>\n",
       "      <th>BPMeds</th>\n",
       "      <th>prevalentStroke</th>\n",
       "      <th>prevalentHyp</th>\n",
       "      <th>totChol</th>\n",
       "      <th>sysBP</th>\n",
       "      <th>diaBP</th>\n",
       "      <th>BMI</th>\n",
       "      <th>heartRate</th>\n",
       "      <th>glucose</th>\n",
       "    </tr>\n",
       "  </thead>\n",
       "  <tbody>\n",
       "    <tr>\n",
       "      <th>0</th>\n",
       "      <td>39.0</td>\n",
       "      <td>0.0</td>\n",
       "      <td>0.0</td>\n",
       "      <td>0.0</td>\n",
       "      <td>0.0</td>\n",
       "      <td>195.0</td>\n",
       "      <td>106.0</td>\n",
       "      <td>70.0</td>\n",
       "      <td>26.97</td>\n",
       "      <td>80.0</td>\n",
       "      <td>77.0</td>\n",
       "    </tr>\n",
       "    <tr>\n",
       "      <th>1</th>\n",
       "      <td>46.0</td>\n",
       "      <td>0.0</td>\n",
       "      <td>0.0</td>\n",
       "      <td>0.0</td>\n",
       "      <td>0.0</td>\n",
       "      <td>250.0</td>\n",
       "      <td>121.0</td>\n",
       "      <td>81.0</td>\n",
       "      <td>28.73</td>\n",
       "      <td>95.0</td>\n",
       "      <td>76.0</td>\n",
       "    </tr>\n",
       "    <tr>\n",
       "      <th>2</th>\n",
       "      <td>48.0</td>\n",
       "      <td>20.0</td>\n",
       "      <td>0.0</td>\n",
       "      <td>0.0</td>\n",
       "      <td>0.0</td>\n",
       "      <td>245.0</td>\n",
       "      <td>127.5</td>\n",
       "      <td>80.0</td>\n",
       "      <td>25.34</td>\n",
       "      <td>75.0</td>\n",
       "      <td>70.0</td>\n",
       "    </tr>\n",
       "    <tr>\n",
       "      <th>3</th>\n",
       "      <td>61.0</td>\n",
       "      <td>30.0</td>\n",
       "      <td>0.0</td>\n",
       "      <td>0.0</td>\n",
       "      <td>1.0</td>\n",
       "      <td>225.0</td>\n",
       "      <td>150.0</td>\n",
       "      <td>95.0</td>\n",
       "      <td>28.58</td>\n",
       "      <td>65.0</td>\n",
       "      <td>103.0</td>\n",
       "    </tr>\n",
       "    <tr>\n",
       "      <th>4</th>\n",
       "      <td>46.0</td>\n",
       "      <td>23.0</td>\n",
       "      <td>0.0</td>\n",
       "      <td>0.0</td>\n",
       "      <td>0.0</td>\n",
       "      <td>285.0</td>\n",
       "      <td>130.0</td>\n",
       "      <td>84.0</td>\n",
       "      <td>23.10</td>\n",
       "      <td>85.0</td>\n",
       "      <td>85.0</td>\n",
       "    </tr>\n",
       "  </tbody>\n",
       "</table>\n",
       "</div>"
      ],
      "text/plain": [
       "    age  cigsPerDay  BPMeds  prevalentStroke  prevalentHyp  totChol  sysBP  \\\n",
       "0  39.0         0.0     0.0              0.0           0.0    195.0  106.0   \n",
       "1  46.0         0.0     0.0              0.0           0.0    250.0  121.0   \n",
       "2  48.0        20.0     0.0              0.0           0.0    245.0  127.5   \n",
       "3  61.0        30.0     0.0              0.0           1.0    225.0  150.0   \n",
       "4  46.0        23.0     0.0              0.0           0.0    285.0  130.0   \n",
       "\n",
       "   diaBP    BMI  heartRate  glucose  \n",
       "0   70.0  26.97       80.0     77.0  \n",
       "1   81.0  28.73       95.0     76.0  \n",
       "2   80.0  25.34       75.0     70.0  \n",
       "3   95.0  28.58       65.0    103.0  \n",
       "4   84.0  23.10       85.0     85.0  "
      ]
     },
     "metadata": {},
     "output_type": "display_data"
    },
    {
     "name": "stdout",
     "output_type": "stream",
     "text": [
      "x_left(age<=50)=\n",
      "\n"
     ]
    },
    {
     "data": {
      "text/html": [
       "<div>\n",
       "<style scoped>\n",
       "    .dataframe tbody tr th:only-of-type {\n",
       "        vertical-align: middle;\n",
       "    }\n",
       "\n",
       "    .dataframe tbody tr th {\n",
       "        vertical-align: top;\n",
       "    }\n",
       "\n",
       "    .dataframe thead th {\n",
       "        text-align: right;\n",
       "    }\n",
       "</style>\n",
       "<table border=\"1\" class=\"dataframe\">\n",
       "  <thead>\n",
       "    <tr style=\"text-align: right;\">\n",
       "      <th></th>\n",
       "      <th>age</th>\n",
       "      <th>cigsPerDay</th>\n",
       "      <th>BPMeds</th>\n",
       "      <th>prevalentStroke</th>\n",
       "      <th>prevalentHyp</th>\n",
       "      <th>totChol</th>\n",
       "      <th>sysBP</th>\n",
       "      <th>diaBP</th>\n",
       "      <th>BMI</th>\n",
       "      <th>heartRate</th>\n",
       "      <th>glucose</th>\n",
       "    </tr>\n",
       "  </thead>\n",
       "  <tbody>\n",
       "    <tr>\n",
       "      <th>0</th>\n",
       "      <td>39.0</td>\n",
       "      <td>0.0</td>\n",
       "      <td>0.0</td>\n",
       "      <td>0.0</td>\n",
       "      <td>0.0</td>\n",
       "      <td>195.0</td>\n",
       "      <td>106.0</td>\n",
       "      <td>70.0</td>\n",
       "      <td>26.97</td>\n",
       "      <td>80.0</td>\n",
       "      <td>77.0</td>\n",
       "    </tr>\n",
       "    <tr>\n",
       "      <th>1</th>\n",
       "      <td>46.0</td>\n",
       "      <td>0.0</td>\n",
       "      <td>0.0</td>\n",
       "      <td>0.0</td>\n",
       "      <td>0.0</td>\n",
       "      <td>250.0</td>\n",
       "      <td>121.0</td>\n",
       "      <td>81.0</td>\n",
       "      <td>28.73</td>\n",
       "      <td>95.0</td>\n",
       "      <td>76.0</td>\n",
       "    </tr>\n",
       "    <tr>\n",
       "      <th>2</th>\n",
       "      <td>48.0</td>\n",
       "      <td>20.0</td>\n",
       "      <td>0.0</td>\n",
       "      <td>0.0</td>\n",
       "      <td>0.0</td>\n",
       "      <td>245.0</td>\n",
       "      <td>127.5</td>\n",
       "      <td>80.0</td>\n",
       "      <td>25.34</td>\n",
       "      <td>75.0</td>\n",
       "      <td>70.0</td>\n",
       "    </tr>\n",
       "    <tr>\n",
       "      <th>4</th>\n",
       "      <td>46.0</td>\n",
       "      <td>23.0</td>\n",
       "      <td>0.0</td>\n",
       "      <td>0.0</td>\n",
       "      <td>0.0</td>\n",
       "      <td>285.0</td>\n",
       "      <td>130.0</td>\n",
       "      <td>84.0</td>\n",
       "      <td>23.10</td>\n",
       "      <td>85.0</td>\n",
       "      <td>85.0</td>\n",
       "    </tr>\n",
       "  </tbody>\n",
       "</table>\n",
       "</div>"
      ],
      "text/plain": [
       "    age  cigsPerDay  BPMeds  prevalentStroke  prevalentHyp  totChol  sysBP  \\\n",
       "0  39.0         0.0     0.0              0.0           0.0    195.0  106.0   \n",
       "1  46.0         0.0     0.0              0.0           0.0    250.0  121.0   \n",
       "2  48.0        20.0     0.0              0.0           0.0    245.0  127.5   \n",
       "4  46.0        23.0     0.0              0.0           0.0    285.0  130.0   \n",
       "\n",
       "   diaBP    BMI  heartRate  glucose  \n",
       "0   70.0  26.97       80.0     77.0  \n",
       "1   81.0  28.73       95.0     76.0  \n",
       "2   80.0  25.34       75.0     70.0  \n",
       "4   84.0  23.10       85.0     85.0  "
      ]
     },
     "metadata": {},
     "output_type": "display_data"
    },
    {
     "name": "stdout",
     "output_type": "stream",
     "text": [
      "x_right(age>50)=\n",
      "\n"
     ]
    },
    {
     "data": {
      "text/html": [
       "<div>\n",
       "<style scoped>\n",
       "    .dataframe tbody tr th:only-of-type {\n",
       "        vertical-align: middle;\n",
       "    }\n",
       "\n",
       "    .dataframe tbody tr th {\n",
       "        vertical-align: top;\n",
       "    }\n",
       "\n",
       "    .dataframe thead th {\n",
       "        text-align: right;\n",
       "    }\n",
       "</style>\n",
       "<table border=\"1\" class=\"dataframe\">\n",
       "  <thead>\n",
       "    <tr style=\"text-align: right;\">\n",
       "      <th></th>\n",
       "      <th>age</th>\n",
       "      <th>cigsPerDay</th>\n",
       "      <th>BPMeds</th>\n",
       "      <th>prevalentStroke</th>\n",
       "      <th>prevalentHyp</th>\n",
       "      <th>totChol</th>\n",
       "      <th>sysBP</th>\n",
       "      <th>diaBP</th>\n",
       "      <th>BMI</th>\n",
       "      <th>heartRate</th>\n",
       "      <th>glucose</th>\n",
       "    </tr>\n",
       "  </thead>\n",
       "  <tbody>\n",
       "    <tr>\n",
       "      <th>3</th>\n",
       "      <td>61.0</td>\n",
       "      <td>30.0</td>\n",
       "      <td>0.0</td>\n",
       "      <td>0.0</td>\n",
       "      <td>1.0</td>\n",
       "      <td>225.0</td>\n",
       "      <td>150.0</td>\n",
       "      <td>95.0</td>\n",
       "      <td>28.58</td>\n",
       "      <td>65.0</td>\n",
       "      <td>103.0</td>\n",
       "    </tr>\n",
       "  </tbody>\n",
       "</table>\n",
       "</div>"
      ],
      "text/plain": [
       "    age  cigsPerDay  BPMeds  prevalentStroke  prevalentHyp  totChol  sysBP  \\\n",
       "3  61.0        30.0     0.0              0.0           1.0    225.0  150.0   \n",
       "\n",
       "   diaBP    BMI  heartRate  glucose  \n",
       "3   95.0  28.58       65.0    103.0  "
      ]
     },
     "metadata": {},
     "output_type": "display_data"
    }
   ],
   "source": [
    "#understanding how the func works\n",
    "x_left,x_right=divide_data(df_x_train[:5],'age',50)\n",
    "#0th column is age in X_train\n",
    "print(\"undivided data=\\n\")\n",
    "display(df_x_train[:5])\n",
    "print(\"x_left(age<=50)=\\n\")\n",
    "display(x_left)\n",
    "print(\"x_right(age>50)=\\n\")\n",
    "display(x_right)\n"
   ]
  },
  {
   "cell_type": "code",
   "execution_count": 44,
   "metadata": {},
   "outputs": [],
   "source": [
    "# aim is to select a feature for tree branching, ...which gives the highest info gain, ie..after branching entropy or randomness is the lowest\n",
    "def information_gain(xy_data,fkey,fval):\n",
    "    left,right=divide_data(xy_data,fkey,fval)\n",
    "    \n",
    "    # % of total samples that are on left and right\n",
    "    l=float(left.shape[0]/xy_data.shape[0])\n",
    "    r=float(right.shape[0])/xy_data.shape[0]\n",
    "    \n",
    "    #if all rows come to one side\n",
    "    if(l==0 or r==0):\n",
    "        return -10000 #min info gain ie -ve value\n",
    "    i_gain=entropy(xy_data[\"POSSIBILITY OF CVD\"])-(l*entropy(left[\"POSSIBILITY OF CVD\"])  +  r*entropy(right[\"POSSIBILITY OF CVD\"]))\n",
    "    return i_gain\n",
    "    \n",
    "    "
   ]
  },
  {
   "cell_type": "code",
   "execution_count": 67,
   "metadata": {
    "scrolled": true
   },
   "outputs": [
    {
     "name": "stdout",
     "output_type": "stream",
     "text": [
      "age\n",
      "0.026465546954471786\n",
      "cigsPerDay\n",
      "0.0021062396848047227\n",
      "BPMeds\n",
      "0.001996500323703243\n",
      "prevalentStroke\n",
      "0.0022448712684876027\n",
      "prevalentHyp\n",
      "0.01902706343405902\n",
      "totChol\n",
      "0.002243925654388801\n",
      "sysBP\n",
      "0.021125403454794744\n",
      "diaBP\n",
      "0.008804996231436935\n",
      "BMI\n",
      "0.0028089963592849987\n",
      "heartRate\n",
      "0.0001762272923547803\n",
      "glucose\n",
      "0.00017136146177609834\n"
     ]
    }
   ],
   "source": [
    "#testing the above function with df_xy_train[[[]]]\n",
    "for attribute in df_x_train.columns:\n",
    "    print(attribute)\n",
    "    print(information_gain(df_xy_train,attribute,df_xy_train[attribute].mean()))"
   ]
  },
  {
   "cell_type": "code",
   "execution_count": 51,
   "metadata": {},
   "outputs": [],
   "source": [
    "class DecisionTree:\n",
    "    def __init__(self,current_depth=0,max_depth=5):\n",
    "        self.left=None\n",
    "        self.right=None\n",
    "        self.fkey=None\n",
    "        self.fval=None\n",
    "        self.max_depth=max_depth\n",
    "        self.current_depth=current_depth\n",
    "        #at leaf node, we will do majority vote, to predict the class, thus we need this \"target\" variable\n",
    "        self.target=None\n",
    "    def train(self,df_xy_train):\n",
    "        features=['age', 'cigsPerDay', 'BPMeds', 'prevalentStroke', 'prevalentHyp',\n",
    "       'totChol', 'sysBP', 'diaBP', 'BMI', 'heartRate', 'glucose']\n",
    "        info_gains=[] #to store info_gain of all above attributes\n",
    "        \n",
    "        for i in features:\n",
    "            i_gain=information_gain(df_xy_train,i,df_xy_train[i].mean())\n",
    "            info_gains.append(i_gain)\n",
    "            \n",
    "        self.fkey=features[np.argmax(info_gains)] #the attribute with highest info_gain\n",
    "        self.fval=df_xy_train[self.fkey].mean() #mean of above attribute, in current data\n",
    "        print(\"dividing data based on attribute: \",self.fkey)\n",
    "        \n",
    "        #split data\n",
    "        df_xy_left,df_xy_right=divide_data(df_xy_train,self.fkey,self.fval)\n",
    "        df_xy_left= df_xy_left.reset_index(drop=True)\n",
    "        df_xy_right= df_xy_right.reset_index(drop=True)\n",
    "        \n",
    "        #below we discuss 2 stoping conditions\n",
    "        #1) if a leaf node\n",
    "        if(df_xy_left.shape[0]==0 or df_xy_right.shape[0]==0):\n",
    "            if(df_xy_train[\"POSSIBILITY OF CVD\"].mean()>=0.5):\n",
    "                self.target=1\n",
    "            else:\n",
    "                self.target=0\n",
    "            return\n",
    "        #2)  if current_depth>max_depth\n",
    "        if(self.current_depth>=self.max_depth):\n",
    "            if(df_xy_train[\"POSSIBILITY OF CVD\"].mean()>=0.5):\n",
    "                self.target=1\n",
    "            else:\n",
    "                self.target=0\n",
    "            return\n",
    "        \n",
    "        #recursive case\n",
    "        self.left=DecisionTree(current_depth=self.current_depth+1)\n",
    "        self.left.train(df_xy_left)\n",
    "        \n",
    "        self.right=DecisionTree(current_depth=self.current_depth+1)\n",
    "        self.right.train(df_xy_right)\n",
    "        \n",
    "        #setting the target value, for non-leaf nodes\n",
    "        #this will help us predict a class, for data at a non-leaf node\n",
    "        if(df_xy_train[\"POSSIBILITY OF CVD\"].mean()>=0.5):\n",
    "            self.target=1\n",
    "        else:\n",
    "            self.target=0\n",
    "        return   \n",
    "    def predict(self,queryRow):\n",
    "        if(queryRow[self.fkey]>self.fval):\n",
    "            #go to right\n",
    "            if(self.right is None):\n",
    "                return self.target\n",
    "            return self.right.predict(queryRow)\n",
    "        else:\n",
    "            #go to left\n",
    "            if(self.left is None):\n",
    "                return self.target\n",
    "            return self.left.predict(queryRow)\n",
    "            \n",
    "        \n",
    "        "
   ]
  },
  {
   "cell_type": "code",
   "execution_count": 53,
   "metadata": {},
   "outputs": [],
   "source": [
    "#df_xy_train is my training data which contains all attributes including \"POSSIBILITY OF CVD\"\n",
    "#df_xy_test is my testing data which contains all attributes including \"POSSIBILITY OF CVD\"\n",
    "d=DecisionTree()\n"
   ]
  },
  {
   "cell_type": "code",
   "execution_count": 54,
   "metadata": {},
   "outputs": [
    {
     "name": "stdout",
     "output_type": "stream",
     "text": [
      "dividing data based on attribute:  age\n",
      "dividing data based on attribute:  sysBP\n",
      "dividing data based on attribute:  cigsPerDay\n",
      "dividing data based on attribute:  cigsPerDay\n",
      "dividing data based on attribute:  BMI\n",
      "dividing data based on attribute:  age\n",
      "dividing data based on attribute:  heartRate\n",
      "dividing data based on attribute:  heartRate\n",
      "dividing data based on attribute:  cigsPerDay\n",
      "dividing data based on attribute:  heartRate\n",
      "dividing data based on attribute:  totChol\n",
      "dividing data based on attribute:  cigsPerDay\n",
      "dividing data based on attribute:  diaBP\n",
      "dividing data based on attribute:  sysBP\n",
      "dividing data based on attribute:  age\n",
      "dividing data based on attribute:  prevalentHyp\n",
      "dividing data based on attribute:  BMI\n",
      "dividing data based on attribute:  cigsPerDay\n",
      "dividing data based on attribute:  age\n",
      "dividing data based on attribute:  heartRate\n",
      "dividing data based on attribute:  cigsPerDay\n",
      "dividing data based on attribute:  prevalentHyp\n",
      "dividing data based on attribute:  BPMeds\n",
      "dividing data based on attribute:  BMI\n",
      "dividing data based on attribute:  totChol\n",
      "dividing data based on attribute:  diaBP\n",
      "dividing data based on attribute:  sysBP\n",
      "dividing data based on attribute:  prevalentHyp\n",
      "dividing data based on attribute:  diaBP\n",
      "dividing data based on attribute:  BPMeds\n",
      "dividing data based on attribute:  age\n",
      "dividing data based on attribute:  age\n",
      "dividing data based on attribute:  sysBP\n",
      "dividing data based on attribute:  cigsPerDay\n",
      "dividing data based on attribute:  glucose\n",
      "dividing data based on attribute:  sysBP\n",
      "dividing data based on attribute:  glucose\n",
      "dividing data based on attribute:  prevalentStroke\n",
      "dividing data based on attribute:  cigsPerDay\n",
      "dividing data based on attribute:  age\n",
      "dividing data based on attribute:  diaBP\n",
      "dividing data based on attribute:  BMI\n",
      "dividing data based on attribute:  BMI\n",
      "dividing data based on attribute:  heartRate\n",
      "dividing data based on attribute:  glucose\n",
      "dividing data based on attribute:  sysBP\n",
      "dividing data based on attribute:  age\n",
      "dividing data based on attribute:  glucose\n",
      "dividing data based on attribute:  cigsPerDay\n",
      "dividing data based on attribute:  age\n",
      "dividing data based on attribute:  glucose\n",
      "dividing data based on attribute:  sysBP\n",
      "dividing data based on attribute:  glucose\n",
      "dividing data based on attribute:  age\n",
      "dividing data based on attribute:  BPMeds\n",
      "dividing data based on attribute:  prevalentStroke\n",
      "dividing data based on attribute:  glucose\n",
      "dividing data based on attribute:  sysBP\n",
      "dividing data based on attribute:  BPMeds\n",
      "dividing data based on attribute:  glucose\n",
      "dividing data based on attribute:  cigsPerDay\n",
      "dividing data based on attribute:  age\n",
      "dividing data based on attribute:  cigsPerDay\n"
     ]
    }
   ],
   "source": [
    "d.train(df_xy_train)"
   ]
  },
  {
   "cell_type": "code",
   "execution_count": 58,
   "metadata": {},
   "outputs": [
    {
     "name": "stdout",
     "output_type": "stream",
     "text": [
      "root node dividing attribute: age\n",
      "49.5677680377613\n",
      "depth 1 ,@left, dividing attribute: sysBP\n",
      "depth 1 ,@right, dividing attribute: sysBP\n"
     ]
    }
   ],
   "source": [
    "print(\"root node dividing attribute:\",d.fkey)\n",
    "print(d.fval)\n",
    "print(\"depth 1 ,@left, dividing attribute:\",d.left.fkey)\n",
    "print(\"depth 1 ,@right, dividing attribute:\",d.right.fkey)"
   ]
  },
  {
   "cell_type": "markdown",
   "metadata": {},
   "source": [
    "### step 3: testing on ...testing data"
   ]
  },
  {
   "cell_type": "code",
   "execution_count": 63,
   "metadata": {},
   "outputs": [],
   "source": [
    "y_pred=[]\n",
    "for i in range(df_xy_test.shape[0]):\n",
    "    y_pred.append(d.predict(df_xy_test.loc[i]))\n",
    "    "
   ]
  },
  {
   "cell_type": "code",
   "execution_count": 74,
   "metadata": {},
   "outputs": [
    {
     "name": "stdout",
     "output_type": "stream",
     "text": [
      "<class 'numpy.ndarray'>\n",
      "<class 'numpy.ndarray'>\n"
     ]
    }
   ],
   "source": [
    "y_pred=np.array(y_pred)\n",
    "#print(y_pred)\n",
    "# Y_test is the actual predtion of the testing set\n",
    "#print(Y_test)\n",
    "Y_test=Y_test.astype(int) # as Y_test has float elements\n",
    "#print(Y_test)\n",
    "print(type(Y_test))\n",
    "print(type(y_pred))"
   ]
  },
  {
   "cell_type": "code",
   "execution_count": 75,
   "metadata": {},
   "outputs": [
    {
     "name": "stdout",
     "output_type": "stream",
     "text": [
      "accuracy on test data=  85.53459119496856  %\n"
     ]
    }
   ],
   "source": [
    "noOfCorrectPred=np.sum((y_pred==Y_test))\n",
    "acc=noOfCorrectPred/Y_test.shape[0]\n",
    "print(\"accuracy on test data= \",acc*100,\" %\")"
   ]
  },
  {
   "cell_type": "code",
   "execution_count": null,
   "metadata": {},
   "outputs": [],
   "source": []
  },
  {
   "cell_type": "markdown",
   "metadata": {},
   "source": [
    "# Decision Tree using sk-learn"
   ]
  },
  {
   "cell_type": "code",
   "execution_count": 12,
   "metadata": {},
   "outputs": [],
   "source": [
    "from sklearn.tree import DecisionTreeClassifier"
   ]
  },
  {
   "cell_type": "code",
   "execution_count": 87,
   "metadata": {},
   "outputs": [],
   "source": [
    "sk_tree=DecisionTreeClassifier?"
   ]
  },
  {
   "cell_type": "code",
   "execution_count": 77,
   "metadata": {},
   "outputs": [],
   "source": [
    "sk_tree=DecisionTreeClassifier(criterion='entropy',max_depth=5)"
   ]
  },
  {
   "cell_type": "code",
   "execution_count": 78,
   "metadata": {},
   "outputs": [
    {
     "data": {
      "text/plain": [
       "DecisionTreeClassifier(criterion='entropy', max_depth=5)"
      ]
     },
     "execution_count": 78,
     "metadata": {},
     "output_type": "execute_result"
    }
   ],
   "source": [
    "# to avoid overfitting, we will keep \"max depth=5\"\n",
    "sk_tree.fit(X_train,Y_train)"
   ]
  },
  {
   "cell_type": "code",
   "execution_count": 79,
   "metadata": {},
   "outputs": [
    {
     "data": {
      "text/plain": [
       "array([0., 0., 0., ..., 0., 0., 0.])"
      ]
     },
     "execution_count": 79,
     "metadata": {},
     "output_type": "execute_result"
    }
   ],
   "source": [
    "sk_tree.predict(X_test)"
   ]
  },
  {
   "cell_type": "markdown",
   "metadata": {},
   "source": [
    "### accuracy when no 'overfitting'(as max_depth is restricted to 5)"
   ]
  },
  {
   "cell_type": "code",
   "execution_count": 80,
   "metadata": {},
   "outputs": [
    {
     "name": "stdout",
     "output_type": "stream",
     "text": [
      "accuracy on test data=  85.46864463924477  %\n"
     ]
    }
   ],
   "source": [
    "acc1=sk_tree.score(X_train,Y_train)*100\n",
    "print(\"accuracy on test data= \",acc1,\" %\")"
   ]
  },
  {
   "cell_type": "code",
   "execution_count": 81,
   "metadata": {},
   "outputs": [
    {
     "name": "stdout",
     "output_type": "stream",
     "text": [
      "accuracy on test data=  84.19811320754717  %\n"
     ]
    }
   ],
   "source": [
    "acc=sk_tree.score(X_test,Y_test)*100\n",
    "print(\"accuracy on test data= \",acc,\" %\")"
   ]
  },
  {
   "cell_type": "code",
   "execution_count": 82,
   "metadata": {},
   "outputs": [],
   "source": [
    "from sklearn import tree"
   ]
  },
  {
   "cell_type": "code",
   "execution_count": 83,
   "metadata": {},
   "outputs": [
    {
     "name": "stdout",
     "output_type": "stream",
     "text": [
      "|--- feature_0 <= 48.50\n",
      "|   |--- feature_1 <= 9.50\n",
      "|   |   |--- feature_10 <= 120.00\n",
      "|   |   |   |--- feature_6 <= 127.25\n",
      "|   |   |   |   |--- feature_8 <= 20.81\n",
      "|   |   |   |   |   |--- class: 0.0\n",
      "|   |   |   |   |--- feature_8 >  20.81\n",
      "|   |   |   |   |   |--- class: 0.0\n",
      "|   |   |   |--- feature_6 >  127.25\n",
      "|   |   |   |   |--- feature_7 <= 63.50\n",
      "|   |   |   |   |   |--- class: 1.0\n",
      "|   |   |   |   |--- feature_7 >  63.50\n",
      "|   |   |   |   |   |--- class: 0.0\n",
      "|   |   |--- feature_10 >  120.00\n",
      "|   |   |   |--- feature_4 <= 0.50\n",
      "|   |   |   |   |--- feature_5 <= 167.00\n",
      "|   |   |   |   |   |--- class: 1.0\n",
      "|   |   |   |   |--- feature_5 >  167.00\n",
      "|   |   |   |   |   |--- class: 0.0\n",
      "|   |   |   |--- feature_4 >  0.50\n",
      "|   |   |   |   |--- class: 1.0\n",
      "|   |--- feature_1 >  9.50\n",
      "|   |   |--- feature_6 <= 134.75\n",
      "|   |   |   |--- feature_5 <= 231.50\n",
      "|   |   |   |   |--- feature_8 <= 27.62\n",
      "|   |   |   |   |   |--- class: 0.0\n",
      "|   |   |   |   |--- feature_8 >  27.62\n",
      "|   |   |   |   |   |--- class: 0.0\n",
      "|   |   |   |--- feature_5 >  231.50\n",
      "|   |   |   |   |--- feature_10 <= 56.00\n",
      "|   |   |   |   |   |--- class: 1.0\n",
      "|   |   |   |   |--- feature_10 >  56.00\n",
      "|   |   |   |   |   |--- class: 0.0\n",
      "|   |   |--- feature_6 >  134.75\n",
      "|   |   |   |--- feature_8 <= 21.90\n",
      "|   |   |   |   |--- feature_8 <= 20.59\n",
      "|   |   |   |   |   |--- class: 0.0\n",
      "|   |   |   |   |--- feature_8 >  20.59\n",
      "|   |   |   |   |   |--- class: 1.0\n",
      "|   |   |   |--- feature_8 >  21.90\n",
      "|   |   |   |   |--- feature_5 <= 197.50\n",
      "|   |   |   |   |   |--- class: 0.0\n",
      "|   |   |   |   |--- feature_5 >  197.50\n",
      "|   |   |   |   |   |--- class: 0.0\n",
      "|--- feature_0 >  48.50\n",
      "|   |--- feature_10 <= 122.50\n",
      "|   |   |--- feature_6 <= 137.75\n",
      "|   |   |   |--- feature_6 <= 115.25\n",
      "|   |   |   |   |--- feature_1 <= 7.00\n",
      "|   |   |   |   |   |--- class: 0.0\n",
      "|   |   |   |   |--- feature_1 >  7.00\n",
      "|   |   |   |   |   |--- class: 0.0\n",
      "|   |   |   |--- feature_6 >  115.25\n",
      "|   |   |   |   |--- feature_1 <= 8.50\n",
      "|   |   |   |   |   |--- class: 0.0\n",
      "|   |   |   |   |--- feature_1 >  8.50\n",
      "|   |   |   |   |   |--- class: 0.0\n",
      "|   |   |--- feature_6 >  137.75\n",
      "|   |   |   |--- feature_1 <= 12.50\n",
      "|   |   |   |   |--- feature_0 <= 64.50\n",
      "|   |   |   |   |   |--- class: 0.0\n",
      "|   |   |   |   |--- feature_0 >  64.50\n",
      "|   |   |   |   |   |--- class: 0.0\n",
      "|   |   |   |--- feature_1 >  12.50\n",
      "|   |   |   |   |--- feature_0 <= 54.50\n",
      "|   |   |   |   |   |--- class: 0.0\n",
      "|   |   |   |   |--- feature_0 >  54.50\n",
      "|   |   |   |   |   |--- class: 0.0\n",
      "|   |--- feature_10 >  122.50\n",
      "|   |   |--- feature_5 <= 182.00\n",
      "|   |   |   |--- class: 0.0\n",
      "|   |   |--- feature_5 >  182.00\n",
      "|   |   |   |--- feature_7 <= 99.50\n",
      "|   |   |   |   |--- feature_1 <= 21.50\n",
      "|   |   |   |   |   |--- class: 1.0\n",
      "|   |   |   |   |--- feature_1 >  21.50\n",
      "|   |   |   |   |   |--- class: 1.0\n",
      "|   |   |   |--- feature_7 >  99.50\n",
      "|   |   |   |   |--- class: 1.0\n",
      "\n"
     ]
    }
   ],
   "source": [
    "text_representation=tree.export_text(sk_tree)\n",
    "print(text_representation)"
   ]
  },
  {
   "cell_type": "code",
   "execution_count": 84,
   "metadata": {},
   "outputs": [],
   "source": [
    "import matplotlib.pyplot as plt\n"
   ]
  },
  {
   "cell_type": "code",
   "execution_count": 91,
   "metadata": {},
   "outputs": [],
   "source": [
    "tree.plot_tree?"
   ]
  },
  {
   "cell_type": "code",
   "execution_count": 93,
   "metadata": {},
   "outputs": [
    {
     "data": {
      "image/png": "[encoded data removed]",
      "text/plain": [
       "<Figure size 3960x2880 with 1 Axes>"
      ]
     },
     "metadata": {
      "needs_background": "light"
     },
     "output_type": "display_data"
    }
   ],
   "source": [
    "fig=plt.figure(figsize=(55,40))\n",
    "_=tree.plot_tree(sk_tree,feature_names=['age', 'cigsPerDay', 'BPMeds', 'prevalentStroke', 'prevalentHyp',\n",
    "       'totChol', 'sysBP', 'diaBP', 'BMI', 'heartRate', 'glucose'],class_names=[\"no CVD\",\"have CVD\"],filled=True)\n"
   ]
  },
  {
   "cell_type": "code",
   "execution_count": null,
   "metadata": {},
   "outputs": [],
   "source": []
  },
  {
   "cell_type": "code",
   "execution_count": null,
   "metadata": {},
   "outputs": [],
   "source": []
  },
  {
   "cell_type": "markdown",
   "metadata": {},
   "source": [
    "### accuracy when 'Over-fitting' exists(no max_depth restriction)"
   ]
  },
  {
   "cell_type": "code",
   "execution_count": 130,
   "metadata": {},
   "outputs": [],
   "source": [
    "# no restriction on \"max_depth\" \n",
    "sk_tree=DecisionTreeClassifier(criterion='entropy')"
   ]
  },
  {
   "cell_type": "code",
   "execution_count": 131,
   "metadata": {},
   "outputs": [
    {
     "data": {
      "text/plain": [
       "DecisionTreeClassifier(criterion='entropy')"
      ]
     },
     "execution_count": 131,
     "metadata": {},
     "output_type": "execute_result"
    }
   ],
   "source": [
    "\n",
    "sk_tree.fit(X_train,Y_train)"
   ]
  },
  {
   "cell_type": "code",
   "execution_count": 132,
   "metadata": {},
   "outputs": [
    {
     "name": "stdout",
     "output_type": "stream",
     "text": [
      "accuracy on test data=  100.0  %\n"
     ]
    }
   ],
   "source": [
    "acc1=sk_tree.score(X_train,Y_train)*100\n",
    "print(\"accuracy on test data= \",acc1,\" %\")"
   ]
  },
  {
   "cell_type": "code",
   "execution_count": 133,
   "metadata": {},
   "outputs": [
    {
     "name": "stdout",
     "output_type": "stream",
     "text": [
      "accuracy on test data=  75.0  %\n"
     ]
    }
   ],
   "source": [
    "acc=sk_tree.score(X_test,Y_test)*100\n",
    "print(\"accuracy on test data= \",acc,\" %\")"
   ]
  },
  {
   "cell_type": "markdown",
   "metadata": {},
   "source": [
    "## when over-fiting exists, testing accuracy is very small, compared to training accuracy"
   ]
  },
  {
   "cell_type": "code",
   "execution_count": null,
   "metadata": {},
   "outputs": [],
   "source": []
  },
  {
   "cell_type": "code",
   "execution_count": null,
   "metadata": {},
   "outputs": [],
   "source": []
  },
  {
   "cell_type": "markdown",
   "metadata": {},
   "source": [
    "# Random Forest using SK-learn"
   ]
  },
  {
   "cell_type": "code",
   "execution_count": 15,
   "metadata": {},
   "outputs": [],
   "source": [
    "from sklearn.ensemble import RandomForestClassifier"
   ]
  },
  {
   "cell_type": "code",
   "execution_count": 16,
   "metadata": {},
   "outputs": [],
   "source": [
    "rf=RandomForestClassifier(n_estimators=10,criterion='entropy',max_depth=5)"
   ]
  },
  {
   "cell_type": "code",
   "execution_count": 17,
   "metadata": {},
   "outputs": [
    {
     "data": {
      "text/plain": [
       "RandomForestClassifier(criterion='entropy', max_depth=5, n_estimators=10)"
      ]
     },
     "execution_count": 17,
     "metadata": {},
     "output_type": "execute_result"
    }
   ],
   "source": [
    "rf.fit(X_train,Y_train)"
   ]
  },
  {
   "cell_type": "code",
   "execution_count": 18,
   "metadata": {},
   "outputs": [
    {
     "data": {
      "text/plain": [
       "0.8540121375590021"
      ]
     },
     "execution_count": 18,
     "metadata": {},
     "output_type": "execute_result"
    }
   ],
   "source": [
    "rf.score(X_train,Y_train)"
   ]
  },
  {
   "cell_type": "code",
   "execution_count": 19,
   "metadata": {},
   "outputs": [
    {
     "data": {
      "text/plain": [
       "0.8522012578616353"
      ]
     },
     "execution_count": 19,
     "metadata": {},
     "output_type": "execute_result"
    }
   ],
   "source": [
    "rf.score(X_test,Y_test)"
   ]
  },
  {
   "cell_type": "code",
   "execution_count": null,
   "metadata": {},
   "outputs": [],
   "source": [
    "#testing accuracy is higher than training accuracy"
   ]
  },
  {
   "cell_type": "code",
   "execution_count": null,
   "metadata": {},
   "outputs": [],
   "source": []
  },
  {
   "cell_type": "markdown",
   "metadata": {},
   "source": [
    "# geting Accuracy,   using 'cross-validation'"
   ]
  },
  {
   "cell_type": "code",
   "execution_count": 135,
   "metadata": {},
   "outputs": [],
   "source": [
    "from sklearn.model_selection import cross_val_score\n"
   ]
  },
  {
   "cell_type": "code",
   "execution_count": 140,
   "metadata": {},
   "outputs": [
    {
     "data": {
      "text/plain": [
       "array([0.84175084, 0.846543  , 0.84822934, 0.84485666, 0.84317032])"
      ]
     },
     "execution_count": 140,
     "metadata": {},
     "output_type": "execute_result"
    }
   ],
   "source": [
    "#cross validation=cv=5\n",
    "# dividing training set into 5 parts, using any 4 parts for training, then testing on the 5th part\n",
    "#all combinations of 4 parts will be taken, and tested on the 5th\n",
    "acc=cross_val_score(RandomForestClassifier(n_estimators=10,criterion='entropy',max_depth=5),X_train,Y_train,cv=5  )\n",
    "acc"
   ]
  },
  {
   "cell_type": "code",
   "execution_count": 143,
   "metadata": {},
   "outputs": [
    {
     "name": "stdout",
     "output_type": "stream",
     "text": [
      "cross validation accuracy\n",
      "Of random forest classifier =  84.49100334429171\n"
     ]
    }
   ],
   "source": [
    "#we take mean of these \n",
    "acc=np.mean(acc)\n",
    "print(\"cross validation accuracy\\nOf random forest classifier = \",acc*100)"
   ]
  },
  {
   "cell_type": "markdown",
   "metadata": {},
   "source": [
    "# Hyper Tuning the \"no. of tress\" used in Random Forest Classifier"
   ]
  },
  {
   "cell_type": "markdown",
   "metadata": {},
   "source": [
    "### n_estimator=no of trees "
   ]
  },
  {
   "cell_type": "code",
   "execution_count": 145,
   "metadata": {},
   "outputs": [
    {
     "name": "stdout",
     "output_type": "stream",
     "text": [
      "[0.8476070428852891, 0.8445727653147552, 0.8462596737470263, 0.8455840019077794, 0.8462602415384877, 0.8462608093299492, 0.8465963740837266, 0.845924108993249, 0.8472697747571273, 0.845585705282164, 0.8472714781315119, 0.8462591059555647, 0.8472709103400502, 0.8445744686891399, 0.8452473015710791, 0.8455845696992409, 0.8462596737470263, 0.845248437154002, 0.8476076106767507, 0.8455840019077794, 0.8476081784682122, 0.8442360649780548, 0.8479460143878356, 0.8462596737470263, 0.8462596737470263, 0.8435609609302694, 0.8472709103400504, 0.8469330744204269, 0.8452478693625405, 0.8455868408650871, 0.8465946707093419, 0.8455851374907024, 0.8465975096666496, 0.8452495727369251, 0.8452473015710791, 0.8462591059555647, 0.8449117368173017, 0.848281579141613, 0.8479448788049126, 0.8455851374907024, 0.8455851374907025, 0.8462591059555647, 0.8462579703726416, 0.8445744686891399, 0.846935345586273, 0.8462602415384877, 0.8462596737470263, 0.8449111690258402, 0.8459218378274027]\n"
     ]
    }
   ],
   "source": [
    "acc_list=[]\n",
    "for i in range(1,50):\n",
    "    acc=cross_val_score(RandomForestClassifier(n_estimators=i,criterion='entropy',max_depth=5),X_train,Y_train,cv=5  ).mean()\n",
    "    acc_list.append(acc)\n",
    "print(acc_list)"
   ]
  },
  {
   "cell_type": "code",
   "execution_count": 146,
   "metadata": {},
   "outputs": [],
   "source": []
  },
  {
   "cell_type": "code",
   "execution_count": 147,
   "metadata": {},
   "outputs": [
    {
     "data": {
      "text/plain": [
       "[<matplotlib.lines.Line2D at 0x1b887310>]"
      ]
     },
     "execution_count": 147,
     "metadata": {},
     "output_type": "execute_result"
    },
    {
     "data": {
      "image/png": "[encoded data removed]",
      "text/plain": [
       "<Figure size 576x396 with 1 Axes>"
      ]
     },
     "metadata": {},
     "output_type": "display_data"
    }
   ],
   "source": [
    "plt.style.use(\"seaborn\")\n",
    "plt.plot(acc_list)\n"
   ]
  },
  {
   "cell_type": "code",
   "execution_count": 148,
   "metadata": {},
   "outputs": [
    {
     "name": "stdout",
     "output_type": "stream",
     "text": [
      "max accracy occurs at n_estimator= 37\n"
     ]
    }
   ],
   "source": [
    "print(\"max accracy occurs at n_estimator=\",np.argmax(acc_list))"
   ]
  },
  {
   "cell_type": "code",
   "execution_count": 161,
   "metadata": {},
   "outputs": [
    {
     "name": "stdout",
     "output_type": "stream",
     "text": [
      "max cross validation accuracy with\n",
      "random forest classifier on training data= 84.8281579141613  %\n"
     ]
    }
   ],
   "source": [
    "print(\"max cross validation accuracy with\\nrandom forest classifier on training data=\",acc_list[37]*100,\" %\")"
   ]
  },
  {
   "cell_type": "markdown",
   "metadata": {},
   "source": [
    "## finding score on test data , with n_estimator=37"
   ]
  },
  {
   "cell_type": "code",
   "execution_count": 20,
   "metadata": {},
   "outputs": [],
   "source": [
    "rf=RandomForestClassifier(n_estimators=37,criterion='entropy',max_depth=5)"
   ]
  },
  {
   "cell_type": "code",
   "execution_count": 21,
   "metadata": {},
   "outputs": [
    {
     "data": {
      "text/plain": [
       "RandomForestClassifier(criterion='entropy', max_depth=5, n_estimators=37)"
      ]
     },
     "execution_count": 21,
     "metadata": {},
     "output_type": "execute_result"
    }
   ],
   "source": [
    "rf.fit(X_train,Y_train)"
   ]
  },
  {
   "cell_type": "code",
   "execution_count": 22,
   "metadata": {},
   "outputs": [
    {
     "data": {
      "text/plain": [
       "85.22012578616352"
      ]
     },
     "execution_count": 22,
     "metadata": {},
     "output_type": "execute_result"
    }
   ],
   "source": [
    "rf.score(X_test,Y_test)*100"
   ]
  },
  {
   "cell_type": "code",
   "execution_count": 17,
   "metadata": {},
   "outputs": [],
   "source": [
    "Y_rf_pred=rf.predict?"
   ]
  },
  {
   "cell_type": "code",
   "execution_count": 23,
   "metadata": {},
   "outputs": [],
   "source": [
    "Y_rf_pred=rf.predict(X_test)"
   ]
  },
  {
   "cell_type": "markdown",
   "metadata": {},
   "source": [
    "###  measuring performance by evaluating parameters"
   ]
  },
  {
   "cell_type": "code",
   "execution_count": 24,
   "metadata": {},
   "outputs": [],
   "source": [
    "def evaluateParameters(Y_pred,Y_test):\n",
    "    tp,tn,fp,fn=0,0,0,0\n",
    "    for i in range(len(Y_test)):\n",
    "        actual=Y_test[i]\n",
    "        if(actual==1):\n",
    "            if(actual==Y_pred[i]):\n",
    "                tp+=1\n",
    "            else:\n",
    "                fn+=1\n",
    "        else:\n",
    "            if(actual==Y_pred[i]):\n",
    "                tn+=1\n",
    "            else:\n",
    "                fp+=1\n",
    "    print(\"\\naccuracy= \",(tp+tn)/(tp+tn+fn+fp))\n",
    "    print(\"\\nsensitivity= \",tp/(tp+fn))\n",
    "    print(\"\\nspecificity= \",tn/(fp+tn))\n",
    "    print(\"\\nPPv= \",tp/(tp+fp))\n",
    "    print(\"\\nNPV= \",tn/(tn+fn))\n",
    "    \n",
    "            \n",
    "            "
   ]
  },
  {
   "cell_type": "code",
   "execution_count": 25,
   "metadata": {},
   "outputs": [
    {
     "name": "stdout",
     "output_type": "stream",
     "text": [
      "\n",
      "accuracy=  0.8522012578616353\n",
      "\n",
      "sensitivity=  0.015873015873015872\n",
      "\n",
      "specificity=  0.9981532779316713\n",
      "\n",
      "PPv=  0.6\n",
      "\n",
      "NPV=  0.8531965272296764\n"
     ]
    }
   ],
   "source": [
    "evaluateParameters(Y_rf_pred,Y_test)"
   ]
  },
  {
   "cell_type": "markdown",
   "metadata": {},
   "source": [
    "# saving trained model, for deploying on web"
   ]
  },
  {
   "cell_type": "code",
   "execution_count": 26,
   "metadata": {},
   "outputs": [],
   "source": [
    "import pickle"
   ]
  },
  {
   "cell_type": "code",
   "execution_count": 27,
   "metadata": {},
   "outputs": [],
   "source": [
    "with open('rf_model.pkl','wb') as f:\n",
    "    pickle.dump(rf,f)"
   ]
  },
  {
   "cell_type": "code",
   "execution_count": null,
   "metadata": {},
   "outputs": [],
   "source": []
  }
 ],
 "metadata": {
  "kernelspec": {
   "display_name": "Python 3",
   "language": "python",
   "name": "python3"
  },
  "language_info": {
   "codemirror_mode": {
    "name": "ipython",
    "version": 3
   },
   "file_extension": ".py",
   "mimetype": "text/x-python",
   "name": "python",
   "nbconvert_exporter": "python",
   "pygments_lexer": "ipython3",
   "version": "3.8.2"
  }
 },
 "nbformat": 4,
 "nbformat_minor": 4
}
